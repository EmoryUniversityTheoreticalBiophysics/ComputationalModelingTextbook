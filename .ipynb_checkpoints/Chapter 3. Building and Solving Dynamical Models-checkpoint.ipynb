{
 "cells": [
  {
   "cell_type": "markdown",
   "metadata": {},
   "source": [
    "# Chapter 3: Building and Solving Dynamical Models\n",
    "Introduction to the Phys212/Biol212 class\n",
    "### by Ilya Nemenman, 2016-2020"
   ]
  },
  {
   "cell_type": "markdown",
   "metadata": {},
   "source": [
    "In this module, we further expand on our toolkit of computational methods and Python coding and learn how to solve dynamical (ordinary differential equations) models. Make sure you read Chapters 4.3 and 6.1, 6.3, 6.4, 6.9 of the *Student Guide* alongside with this notebook."
   ]
  },
  {
   "cell_type": "markdown",
   "metadata": {},
   "source": [
    "## The simplest dynamical model: Malthusian growth\n",
    "Let's start with the following problem and figure out how to model it:\n",
    "\n",
    "> A few bacteria are placed in a Petri dish. With time, each bacterium grows with a certain rate and then divides into two daughter cells. How many bacteria are there in the dish a certain while later?\n",
    "\n",
    "### Analysis\n",
    "How should we model this? The model we need is definitely dynamic. However, almost all other aspects of the model are for you to decide. I encourage you to consider different modeling assumptions. \n",
    "\n",
    "We can have discrete number of bacteria vs. continuous (discrete vs. continuous state model. Nominally, bacterial number should be viewed as discrete -- after all, we cannot have a fractional number of cells alive in the population. However, when the number is huge (see more on this), then populations of many millions or many millions and one bacteria are indistinguishable, and one can take the number as continuous. Even simpler, we can consider not the number of bacteria, but the bacterial *density* -- how many bacteria are there per unit volume. This number certainly can be continuous, as we are not guaranteed that the unit volume we choose will have a whole number of bacteria on average. For the rest of this module, we will choose to measure bacterial densities instead of numbers, and hence the *dynamical variable* is *continuous*.\n",
    "\n",
    "We can model this problem in discrete time (bacteria divide synchronously) or continuous time -- bacteria divide at different times. Think about which (if any) is a better choice and why and when? My choice here is *continuous time*.  We can model this process as a stochastic model (the number of dividing bacteria is random) or a deterministic model, where in a certain interval $dt$ a certain fraction of bacteria divides that is proportional to the duration of the interval. In what follows, I choose to assume that each bacterium divides at the same rate. But they divide in different time, so that the time is *continuous*. Finally, we will assume that the number of bacteria is large, so that a large number of new bacteria gets created during any, even very short, period of time. Thus the total number of bacteria dividing per unit time is proportional to the current population, with a certain coefficient of proportionality, which we call the rate. \n",
    "\n",
    "To substantiate the assumption of a large number of bacteria, let's do a simple analysis. A typical bacterium, such as *E. coli* has the linear size of about 1 micron, or $10^{-6}$ m (in reality, the bacterium is a rod, but for our purposes this is not important), which corresponds to the bacterial volume of $10^{-18}$ m$^3$. Thus in a milliliter of a solution ($10^{-6}$ m$^3$), one should be able to fit about $10^{12}$ bacteria if they occupy all of the space. In reality, packing them so closely is hardly possible, and the volumes can be slightly larger than the micron cubed. So $10^{11}$ bacteria per milliliter is a bit more realistic. At this point, we won't have a solution with bacteria -- the bacterial instead will form a hard mat. For liquid cultures, the maximum concentrations are typically 10 to 100 times smaller than this maximum, at least. Which is still a huge number, so that stochastic effects probably average out quite well and can be neglected. \n",
    "\n",
    "### Model building\n",
    "The following variables are needed to initialize the model: initial density of bacteria (constant), growth rate (constant), and total duration of the experiment (constant, which we denote as $T$). Then the number of bacteria is the dependent variable, which will be updated with time. At this point, we also need to think about what the units of the variables are. We choose to measure the duration of the experiments in hours, then the growth rate is in 1/hour. The units for bacterial densities are a bit more complicated. Experimentally, we do not usually measure the bacterial numbers, but rather something called *Colony Forming Units*, or CFUs. The CFUs are measured by taking the bacterial culture, diluting it, and putting it into a new dish, so that, in this dilute solution, every bacterium in far away from each other. Some bacteria start growing, and form distinct colonies, and then we count those as the CFUs. Typically, the number of bacteria in a culture is proportional to CFUs (with some noise, of course), and the two are often used interchangeably. Thus our units for bacterial density will be in units of CFU/mL, and I choose the units such that the density 1.0 corresponds to $10^6$ CFU/mL. \n",
    "\n",
    "The considerations above suggest that we can write the model using a differential equation for the population density $$\\frac{dn}{dt}=rn,$$ with the initial condition $n(0)=n_0$. This assumes that the number of bacteria is always much larger than 1 (otherwise stochasticity will be important). This model is easy to solve analytically. We rewrite the equation as $$dn=rn\\, dt,$$ and integrate both sides, making sure that the limits match: we go from $n(0)$ bacteria at time 0 to $n(T)$ at time $T$:\n",
    "$$ \\int_{n_0}^{n(T)}\\frac{dn}{n}=\\int_0^T r\\,dt.$$\n",
    "This gives $$n(t)=n_0 e^{rt},$$ which is the celebrated Malthusian exponential growth. <font color=pink>Need editorializing about how this was one of the first quantitative biological models.</font> However, our focus here is on solving similar equations numerically, and so we will implement numerical solution of the equation, and the analytical solution will be a useful check of accuracy of our numerical one."
   ]
  },
  {
   "cell_type": "markdown",
   "metadata": {},
   "source": [
    "### Model implementation\n",
    "We need to solve the differential equation that we write down, but we do not know how to do this yet.\n",
    "\n",
    "#### Euler method for solving differential equations\n",
    "The problem above is the first problem of a different kind: dynamic, continuous time model, where temporal evolution of variables is governed by ordinary differential equations (in this case, there's just one variable and one equation describing it). Intuitively, solving such models should be easy -- instead of a continuous change of the variable, we can increment the changing variable in steps corresponding to quantum units of time. To understand what the increment should be, one recalls that the derivative is the tangent to a function, and so one can approximate the change of the function $n(t)$ over the time $\\Delta t$ by $\\frac{dn}{dt}\\Delta t$. In other words, we can rewrite the differential equation as a *finite difference* equation $$n(t+\\Delta t)=n(t)+\\Delta n(t)=n(t)+rn(t)\\Delta t.$$ One then can solve for $n$ over the entire range of time that we are interested in by looping over a few simple commands: evaluating the derivative, calculating the function increment as the derivative times the time step, incrementing the function, and advancing the time. This is known as the Euler algorithm for solving differential equations. \n",
    "\n",
    "This analysis tells us that two more variables will be needed for implementation of the problem: $dn$ -- a dependent variable that will store the change of the number of bacteria on a dish at a given time, and $dt$, which is a constant determining the step size for the solution of the differential equation. Note that the variable $n$ in this case is something that we call a *container* variable -- it accumulates $dn$, so that it is a dependent variable that depends not just on the current rate of growth, but on the rate of growth at all moments previously.\n",
    "\n",
    "#### Simple implementation of the Euler method\n",
    "We can implement the model in the following simple code:"
   ]
  },
  {
   "cell_type": "code",
   "execution_count": 1,
   "metadata": {},
   "outputs": [
    {
     "name": "stdout",
     "output_type": "stream",
     "text": [
      "Time = 0.1; Population = 1.1.\n",
      "Time = 0.2; Population = 1.2100000000000002.\n",
      "Time = 0.30000000000000004; Population = 1.3310000000000002.\n",
      "Time = 0.4; Population = 1.4641000000000002.\n",
      "Time = 0.5; Population = 1.61051.\n",
      "Time = 0.6; Population = 1.7715610000000002.\n",
      "Time = 0.7000000000000001; Population = 1.9487171.\n",
      "Time = 0.8; Population = 2.1435888100000002.\n",
      "Time = 0.9; Population = 2.357947691.\n",
      "Time = 1.0; Population = 2.5937424601.\n"
     ]
    }
   ],
   "source": [
    "import numpy as np          # importing numpy\n",
    "SimulationTime = 1.0        # duration of the experiment, hours\n",
    "dt = 0.1                    # time step, hours\n",
    "GrowthRate = 1.0            # growth rate of the population, hrs^{-1}\n",
    "Population0 = 1.0           # initial population size, 10^6 Colony Forming Units (CFU)\n",
    "\n",
    "Population = Population0    # setting the initial value\n",
    "# for every time point in a range (0,T], with a step dt, we perform the Euler step\n",
    "for Time in np.arange(dt, SimulationTime+dt, dt):\n",
    "    Population = Population + dt * GrowthRate * Population\n",
    "    # and we print the current value of n(t)\n",
    "    print('Time = ' + str(Time) + '; Population = ' + str(Population) + '.')"
   ]
  },
  {
   "cell_type": "markdown",
   "metadata": {},
   "source": [
    "Note that our time range starts with `dt` and ends with `SimulationTime+dt`. This is because we already know what the population is at zero time, so it does not need to be calculated. And since Python ends the range *before* the last value of the range, we need to extra an extra time step, an extra `dt`, to actually include the time `SimulationTime` in the simulation.\n",
    "\n",
    "How accurate is the solution that we obtain? We know that the solution should be $n(T)= n_0 e^{rT}$, so let's print this value for comparison:"
   ]
  },
  {
   "cell_type": "code",
   "execution_count": 2,
   "metadata": {},
   "outputs": [
    {
     "name": "stdout",
     "output_type": "stream",
     "text": [
      "True population should have been 2.718281828459045.\n"
     ]
    }
   ],
   "source": [
    "print('True population should have been ' +str(Population0*np.exp(GrowthRate*SimulationTime))+'.')"
   ]
  },
  {
   "cell_type": "markdown",
   "metadata": {},
   "source": [
    "Specifically, if $\\Delta T= 0.1$, the error is about $\\approx 0.13$ -- not too small. In the next few lectures, we will explore how the error depends on $\\Delta T$ numerically. For now, let's do a back of the envelope analysis. The true Taylor expansion of a function reads $n(t+\\Delta t)=n(t)+ \\frac{dn}{dt}\\Delta t +\\frac{1}{2}\\frac{d^2n}{dt^2}\\Delta t^2+\\dots$. The Euler method truncates this series after the term $O(\\Delta t)$ (recall that the mathematical notation O means \"of order of\"). So every step in the iteration introduces the error of the magnitude $O(\\Delta t^2)$. And there are $T/\\Delta t$ such steps, os that we expect the overall error to be $O(\\Delta t^2)\\times T/dt =O(T\\,\\Delta t)$. In other words, the error will grow with the temporal duration of the interval we are analyzing, and it will decrease linearly with $\\Delta t$, when the finite difference starts looking close to the derivative. Because of this linear dependence on $\\Delta t$, the Euler method is known as a *first order* integration algorithm."
   ]
  },
  {
   "cell_type": "markdown",
   "metadata": {},
   "source": [
    "### Plotting\n",
    "Read the textbook, Chapter 6, for the basics of plotting. We can restructure our code to output the entire temporal evolution -- not just the final result -- of the bacterial number, and then we can plot the result. This is especially useful for visualization. We will discuss the plotting commands more during the class. Further, in the code below I mark some of the commands that I would like you to modify and/or remove -- and to explore the effects that this has on the output.\n",
    "\n",
    "The most important thing to remember about plotting is that, like everything else in Python, a figure is an object. The axes in a figure are an object, the plots, labels, lines, tick marks are all objects, and they are all related to each other: that is, labels objects are children of the axes objects, and so on You can explore every one of this objects by doing a `dir` on it, and seeing which methods are available. A figure as an object, and a figure as a raster of pixels are not the same thing. Showing a figure -- that is, creating a raster corresponding to its current state -- is done by `plt.show()`. The raster than is displayed and is frozen -- if you change the figure beyong that, the raster won't change. You will need to show the figure again to see an updated raster."
   ]
  },
  {
   "cell_type": "code",
   "execution_count": 3,
   "metadata": {},
   "outputs": [
    {
     "data": {
      "image/png": "[encoded data removed]",
      "text/plain": [
       "<Figure size 720x540 with 1 Axes>"
      ]
     },
     "metadata": {},
     "output_type": "display_data"
    }
   ],
   "source": [
    "import numpy as np              # importing numpy\n",
    "import matplotlib.pyplot as plt # importing plotting functions\n",
    "from matplotlib import rc       # importing functions for plot control\n",
    "\n",
    "\n",
    "# needed to switch to inline plots in Jupyter\n",
    "# REMOVE this line and observe the effect this has\n",
    "%matplotlib inline      \n",
    "\n",
    "SimulationTime = 10.0      # simulated experiment duration, hours\n",
    "dt = 0.1                   # time step, hours\n",
    "GrowthRate = 0.2           # growth rate, hours^{-1}\n",
    "Time = np.arange(0, SimulationTime+dt, dt) # all time points in the simulation, hrs\n",
    "Population = np.zeros(Time.size) # population at the above time points, hrs\n",
    "Population[0] = 1.0        # initial population size, 10^6 CFUs\n",
    "\n",
    "# for each time point, do the Euler step\n",
    "for i in np.arange(1, Time.size):\n",
    "    Population[i] = Population[i-1] + dt * GrowthRate * Population[i-1]\n",
    "\n",
    "# exact population value for comparison\n",
    "PopulationExact = Population[0] * np.exp(Time*GrowthRate)\n",
    "\n",
    "# The next line changes the figure size. There are many ways of doing this, but the easiest \n",
    "# I found is to treat the whole axes as a single subplot, and then change the subplot size,\n",
    "# in inches. \n",
    "# REMOVE or MODIFY the next line and explore the effects this has.\n",
    "fig, ax = plt.subplots(figsize=(4, 3), dpi= 180, facecolor='w', edgecolor='k')\n",
    "\n",
    "# plotting numerical and exact solution, with labels \n",
    "plt.plot(Time, Population, label='Numerical solution')\n",
    "plt.plot(Time, PopulationExact, label='Exact solution')\n",
    "\n",
    "#showing the legend\n",
    "plt.legend()\n",
    "\n",
    "# there are alternative ways for labeling; using get_lines() and setting line\n",
    "# labels, or using ax.legend()\n",
    "\n",
    "# labeling the axes in two different ways \n",
    "plt.title('Malthusian bacterial population growth')\n",
    "plt.xlabel('Time, hours')\n",
    "# an alternative way of changing things is to change attributes directly\n",
    "ax = plt.gca()\n",
    "ax.set_ylabel('Number of bacteria')\n",
    "\n",
    "# finally, showing the plot\n",
    "plt.show()\n"
   ]
  },
  {
   "cell_type": "markdown",
   "metadata": {},
   "source": [
    "Note that, even though the lines in this figure look continuous, they are, in fact, linear segements connecting points specified by `Time[i]` and `Population[i]`. You can verify this easily by changing `dt` to a larger value and observing how the curves break."
   ]
  },
  {
   "cell_type": "markdown",
   "metadata": {},
   "source": [
    "> ### Your turn\n",
    "Explore the objects involved in plotting by using `dir` and then calling various methods associated with the objects. Change the font of the x-lable of the Malthusian growth figure above, and change color and the lintype of the exact solution line, and then re-render the figure. Note that I am not asking you to create a new figure with different properties, but to find methods to change properties of the current figure.\n",
    "\n",
    "> ### Your turn \n",
    "Explore how the solution depends on $dt$: is the Euler method really a first order method? For this, evaluate the solution at different $dt$ for the final time of $t=1$, initial condition $n_0=1$, and growth rate of 1. The final result should be the value of $e$, or `np.exp(1)`. Explore the difference between the analytical solution and the numerical result for different $dt$. Plot the dependence of the final error on $dt$. Plot this dependence in the log-log coordinates.\n",
    "\n",
    "\n",
    "### Continuing with the model\n",
    "\n",
    "#### Model verification\n",
    "We can solve this whole problem analytically and compare to the output of the experiment. Or we can verify the code by comparing to special cases. For example, for zero growth rate, the number of bacteria shouldn't change with time. Alternatively, when $n_0$ increases by a factor, the final result should increase by the same factor -- and we can check this.\n",
    "\n",
    "#### Discussion\n",
    "We have modeled the exponential bacterial growth, and the findings agree with the analytics. While it seems that there is not much to discuss here, one could still describe what will happen to the solution if any of our assumptions (large number of bacteria, deterministic growth, continuous time, etc.) are violated. Please think of answers to these questions. For example, how would this code change if we assumed the model to be a discrete time model? In fact, only the steps would probably get larger -- but the structure of the code would remain the same, with the same stepping through time intervals of $dt$. There are no, in fact, purely continuous models on digital computers!"
   ]
  },
  {
   "cell_type": "markdown",
   "metadata": {},
   "source": [
    "## New Python concepts: Encapuslation, Scopes, and Functions\n",
    "To date, we often used Python from the command line, or executed cells from Jupyter notebooks. While this is allowed, it is not the best way of working with Python (or most other software packages), epsecially when the programs you write become longer. It is important to encapsulate the code that you use repeatedly into either a script or a function, thus assigning the piece of code a name, and being able to call it and execute it by this name. \n",
    "\n",
    "The difference between the scripts and the functions is that a script does not have its own scope, and hence it modifies the state of the Python kernel after the execution. Functions have their own scope and usually (bot not always) do not modify the state of the kernel. Please read Appendix E.4. of the *Python Student Guide* for a more in-depth discussion about scopes. Additionally, you can pass arguments to a function and receive output back, and this is impossible to do with scripts. In general, functions are probably preferable in all, but a few special cases. This is especially true when working with Jupyter notebooks, where you can define a function in a cell, and then, having executed the cell, you can refer to the function by the name from any other cell of the notebook.\n",
    "\n",
    "Whether you choose functions or scripts, it is crucial that you should follow the rule: if a code can be reused more than once, or if it may be re-used for different parameter values, then it should be encapsulated. \n",
    "\n",
    "### Functions\n",
    "Section 6.1 in the *Python Student Guide* focuses on writing one's own functions. In this lecture, we will write our first functions as well -- various growth rates for bacterial growth problems and solvers of the corresponding differential equations. I will leave it for you to read the appropriate discussion in the textbook, and we will not duplicate it here. Just as a reminder of a few key points:\n",
    "1. Functions have arguments. Unlike in many other languages, Python has an ability to use *keyword* arguments, so that you can supply arguments to a function in any order, as long as you name them. There's also a mechanism for default argument values, so that you can skip providing an argument if you don't have to. Both of these mechanisms speed things up when writing your code, but they also can make your code harder to understand.\n",
    "2. Functions return values -- think of them as mathematical functions, which map their input arguments into the output arguments. However, unlike mathematical functions, a Python function can return many argumentts together, assmebled in one list.\n",
    "3. The most important distinction between mathematical functions and Python functions is that functions in Python can change the state of the Python interpreter. That is, if an argument to a function is a mutable object, then the obect can be changed from inside the function. Just imagine if you were to write $x=\\pi$, $y=\\sin(x)$ in a trigonometry class, and, in a process of the evaluation, $y$ gets assigned its appropriate value of 0, but $x$ changes during that process too, and, after the execution, it becomes equal to, say 1.2. You can do this in Python! But you definitely should think very hard before doing this. It may save you a bit of writing time, but I assure you that making your code to behave in a way that people don't expect it to will cause many problems.\n",
    "\n",
    "This last point is worth reiterating. Many things, including writing code, we can do in many different ways, and there are no laws of nature that prefer one way over the other. What does make a difference is what people working with you (and you yourself) expect. You want to write code that is easy to understand, that can be read by people filling in gaps without actually exploring every line of your code. The expectations change depending on the field -- and you need to know what expectations are in yours. My favorite example is the following. Say, we define a function $f$ as $f(x,y)=x^2+y^2$. What is then $f(r,\\theta)$? A mathematician or a computer scientist would say that $f(r,\\theta)=r^2+\\theta^2$, but a physicist would definitely respond that $f(r,\\theta)=r^2$, because, for us, there are conventions that $x,y$ are Cartesian coordinates, and $r,\\theta$ denote the radius and the polar angle. So know your audience! In a computer science class, it may be ok for a function to change its arguments, or otherwise modify Python state. In a science class, it is a bad idea.\n",
    "\n",
    "While we are at it, discussing various things that are idyosyncratic to Python, you would be wise to remind yourself the following concept (go back to prior sections in the *Student Guide* or Google):\n",
    "1. What is a *type* of a variable? When should we do tyope checing? How does Python figure out which type the variable passed to a function has. \n",
    "2. What are modules? And how does `reload` function work?\n",
    "3. Finally, remind yourself about the importance of vectorizing your code."
   ]
  },
  {
   "cell_type": "markdown",
   "metadata": {},
   "source": [
    "Let's now write a few functions we will be using. We will start with defining the growth rate for the Malthusian growth as a function."
   ]
  },
  {
   "cell_type": "code",
   "execution_count": 4,
   "metadata": {},
   "outputs": [
    {
     "name": "stdout",
     "output_type": "stream",
     "text": [
      "0.1\n"
     ]
    }
   ],
   "source": [
    "print(dt) \n",
    "\n",
    "def Malthus(Population):\n",
    "    \"\"\"\n",
    "    This function returns the growth rate of a simple exponential growth\n",
    "\n",
    "    Usage: Growth = Malthus(Population)\n",
    "\n",
    "        Population -- current population size, in A.U\n",
    "        \n",
    "        Growth -- population growth, 1/hr\n",
    "    \"\"\"\n",
    "    GrowthRate = 1.0         # growth rate per bacterium, 1/hrs\n",
    "    return GrowthRate*Population"
   ]
  },
  {
   "cell_type": "markdown",
   "metadata": {},
   "source": [
    "Pay attention to the first line above `print(dt)`. While `dt` is not defined in this cell, it has been defined earlier, and is accessible here as well. Also this should tell you that cells defining functions are not special in any way. They are just code cell, and defining a function is a code -- it's just a special code that doesn't actually output anything, but only creates an object -- the function -- in the Python state space.\n",
    "\n",
    ">### Your turn:\n",
    "In the code above, what does the `\"\"\"` syntaxis stand for?\n",
    "\n",
    "Now we notice that the function has an internal parameter, the `GrowthRate`. Sometimes it would be useful to be able to evaluate the function for different values of the parameter, without having to rewrite it. For this, we can define the following function. Note that we are not using one of the arguments, `t` -- it will become clear later why."
   ]
  },
  {
   "cell_type": "code",
   "execution_count": 5,
   "metadata": {},
   "outputs": [],
   "source": [
    "def MalthusParam(Population, t=0.0, GrowthRate=3.0):\n",
    "    \"\"\"\n",
    "    This function returns the growth rate of a simple exponential growth\n",
    "\n",
    "    Usafe: Growth = Malthus(Population,GrowthRate)\n",
    "\n",
    "        Population -- current population size\n",
    "        t -- current time (not used)\n",
    "        GrowthRate -- population Growth Rate, 1/(bacterium*hr)\n",
    "        \n",
    "        Growth - population growth, 1/hr\n",
    "    \"\"\"\n",
    "    return GrowthRate*Population"
   ]
  },
  {
   "cell_type": "markdown",
   "metadata": {},
   "source": [
    "Now we come to our old friend, the scope. You should read Appendix E4 of the *Student Guide* at this point. Not that we have the variable `GrowthRate` dfined in the global scope, and inside the `MalthusParam()` scope as well. Thus when line 12 above tries to access `GrowthRate`, it access the one inside the lost local scope first. Overall, Python searches for variables first in the Local scope, then in Enclosing, the Enclosing of Enclosing, etc., eventualy checking the Global scope, and then the Built-in variables. Let's do a few calls to `MalthusParam` to demonstrate it."
   ]
  },
  {
   "cell_type": "code",
   "execution_count": 6,
   "metadata": {},
   "outputs": [
    {
     "name": "stdout",
     "output_type": "stream",
     "text": [
      "Global GrowthRate = 0.2.\n",
      "6.0\n",
      "14.0\n",
      "14.0\n"
     ]
    }
   ],
   "source": [
    "print('Global GrowthRate = '+str(GrowthRate)+ '.')\n",
    "print(MalthusParam(2.0))  # calling the function with the default parameter of 3.0\n",
    "print(MalthusParam(2.0, 0.0, 7.0)) # calling the function with GrowthRate 7.0\n",
    "print(MalthusParam(GrowthRate=2.0, t=0.0, Population=7.0)) # flipping the order of the parameters"
   ]
  },
  {
   "cell_type": "markdown",
   "metadata": {},
   "source": [
    "Make sure you are able to understand the results of the previous cell. Even though the global variable `GrowthRate` is 0.2, the values that were used in calculating the output of the `MalthusParam()` function are all different from that.\n",
    "\n",
    "### Growth with carrying capacity\n",
    "Let's now move to slightly more complicated growth functions, and get some more practice with writing functions. Clearly, bacteria in a dish cannot grow exponentially all the time -- they are limited by the amount of food, by the dish size, and so on. The easiest way to account for this is introducing the concept of $C$, the *carrying capacity* -- basically, limiting the growth by some fixed value. That is, instead of being proportional to the population size, the rate of growth of the population is $r(n) = r_0n\\left(1-\\frac{n}{C}\\right)$. As you can eagerly see, when $n\\to C$, growth slows down, becomes zero, and then turns negative if $n>C$, indicating that bacteria will die if there are too many of them.\n",
    "\n",
    "We will use this type of growth functions many times throughout this class. Let's now code it up."
   ]
  },
  {
   "cell_type": "code",
   "execution_count": 7,
   "metadata": {},
   "outputs": [],
   "source": [
    "def MalthusCapacity(Population):\n",
    "    \"\"\"\n",
    "    This function returns the growth rate of a simple exponential growth\n",
    "    with carrying capacity\n",
    "    \n",
    "    Usage: Growth = Malthus(Population)\n",
    "\n",
    "        Population -- current population size, in A.U\n",
    "        \n",
    "        Growth -- population growth, 1/hr\n",
    "    \"\"\"\n",
    "    GrowthRate = 1.0             # max growth rate per bacterium, 1/(bacterium*hr)\n",
    "    CarryingCapacity = 10        # carrying capacity, A.U.\n",
    "    return GrowthRate*Population*(1-Population/CarryingCapacity)\n",
    "\n",
    "\n",
    "def MalthusCapacityParam(Population, t, GrowthRate, CarryingCapacity):\n",
    "    \"\"\"\n",
    "    This function returns the growth rate of a simple exponential growth\n",
    "    with carrying capacity\n",
    "    Usage: Growth = Malthus(Population)\n",
    "\n",
    "        Population -- current population size, in A.U\n",
    "        t -- current time (not used)\n",
    "        GrowthRate -- maximum growth rate per bacterium, 1/(bacterium*hr)\n",
    "        CarryingCapacity --  # carrying capacity, A.U.\n",
    "        \n",
    "        Growth -- population growth, 1/hr\n",
    "    \"\"\"\n",
    "    return GrowthRate*Population*(1-Population/CarryingCapacity)"
   ]
  },
  {
   "cell_type": "markdown",
   "metadata": {},
   "source": [
    ">### Your turn\n",
    "Plot the function `MalthusCapacityParams()` for your choice of parameters and range of the population sizes.\n",
    "\n",
    ">### Your work\n",
    "Using the code we wrote for the previous module, write a *function* that solves a quadratic equation, receiving the three coefficients of the quadratic polynomial as arguments, and returning the two roots. "
   ]
  },
  {
   "cell_type": "markdown",
   "metadata": {},
   "source": [
    "### Functions with arguments as functions: Euler solver\n",
    "We are now at a point, where we can write the Euler solver as a function, which will take as an argument *the name of the function that must be integrated*. This is interesting -- an entire function can be an argument to another function in Python.\n"
   ]
  },
  {
   "cell_type": "code",
   "execution_count": 8,
   "metadata": {},
   "outputs": [],
   "source": [
    "def Euler(xPrime, t0=0.0, x0=0.0, T=1.0, dt=0.1):\n",
    "    \"\"\"\n",
    "    Solves one variable ODE using the Euler method.\n",
    "    Usage:\n",
    "        (t,x) = Euler(xPrime,t0=0.0,x0=0.0,T=1.0,dt=0.1):\n",
    "        \n",
    "        xPrime -- the right hand side of the equation dx/dt = f, which must be integrated\n",
    "        t0 -- starting time (default 0.0)\n",
    "        x0 -- intitial condition for x (default 0.0)\n",
    "        T -- ending time (default 1.0)\n",
    "        dt -- time step (default 0.1)\n",
    "        \n",
    "        result -- arrays of time and the corresponding solution of the ODE \n",
    "    \"\"\"\n",
    "    t = np.arange(t0, T+dt, dt)    # initialize the array of time points\n",
    "    x = np.zeros(t.size)           # initiatize the array of results at those time points\n",
    "    x[0] = x0                      # set the initial conditions\n",
    "    for i in range(1, t.size):\n",
    "        x[i] = x[i-1] + dt * xPrime(x[i-1])\n",
    "\n",
    "    return (t, x)"
   ]
  },
  {
   "cell_type": "markdown",
   "metadata": {},
   "source": [
    "We now are in a position of actually solving the malthusian growth using the newly written growth and integration function."
   ]
  },
  {
   "cell_type": "code",
   "execution_count": 9,
   "metadata": {},
   "outputs": [
    {
     "name": "stdout",
     "output_type": "stream",
     "text": [
      "Time; Population -- Without / With Carrying Capacity\n",
      "[[0.         1.         1.        ]\n",
      " [0.1        1.1        1.09      ]\n",
      " [0.2        1.21       1.187119  ]\n",
      " [0.3        1.331      1.29173838]\n",
      " [0.4        1.4641     1.40422634]\n",
      " [0.5        1.61051    1.52493046]\n",
      " [0.6        1.771561   1.65416938]\n",
      " [0.7        1.9487171  1.79222355]\n",
      " [0.8        2.14358881 1.93932525]\n",
      " [0.9        2.35794769 2.09564796]\n",
      " [1.         2.59374246 2.26129535]]\n"
     ]
    }
   ],
   "source": [
    "SimulationTime = 1.0 # time to solve for\n",
    "P0 = 1.0             # initial population size\n",
    "dt = 0.1             # time step \n",
    "\n",
    "t, P = Euler(Malthus, 0.0, P0, SimulationTime, dt) # solve the equation\n",
    "\n",
    "# and now the same for carrying capacity. Notice how only the function name changes:\n",
    "t, Pc = Euler(MalthusCapacity, 0.0, P0, SimulationTime, dt) # solve the equation\n",
    "\n",
    "print('Time; Population -- Without / With Carrying Capacity')\n",
    "print(np.transpose(np.vstack((t, P, Pc))))"
   ]
  },
  {
   "cell_type": "markdown",
   "metadata": {},
   "source": [
    "Sometimes the function we need to solve takes its own arguments, such as the `GrowthRate` for `Malthus()`. The code below rewrites the Euler solver in such a way that it take the arguments using the variable arguments list construction `arg=()`, and then passes them all to the xPrime function. By convention, the solver passes the arguments to `xPrime()` in the following order: current state variable `x`, current time `t`, and then all other variables. It is because of this convention that we had to make `t` the second argument to `MalthusParam()` and `MalthusCapacityParam()`. "
   ]
  },
  {
   "cell_type": "code",
   "execution_count": 15,
   "metadata": {},
   "outputs": [],
   "source": [
    "def EulerArg(xPrime, t0=0.0, x0=0.0, T=1.0, dt=0.1, args=()):\n",
    "    \"\"\"\n",
    "    Solves 1-d ODE using the Euler method.\n",
    "\n",
    "    EulerArg(xPrime,t0=0.0,x0=0.0,T=1.0,dt=0.1,args=()):\n",
    "    \n",
    "        \n",
    "        xPrime -- the right hand side of the equation dx/dt = f, which must be integrated\n",
    "        t0 -- starting time (default 0.0)\n",
    "        x0 -- intitial condition for x (default 0.0)\n",
    "        T -- ending time (default 1.0)\n",
    "        dt -- time step (default 0.1)\n",
    "        arg=() - arguments to be passes to the xPrime function \n",
    "        \n",
    "        result -- arrays of time and the corresponding solution of the ODE \n",
    "    \"\"\"\n",
    "    t = np.arange(0, T+dt, dt)\n",
    "    x = np.zeros(t.size)\n",
    "    x[0] = x0\n",
    "    for i in range(1, t.size):\n",
    "        x[i] = x[i-1] + dt * xPrime(x[i-1], t[i-1], args)\n",
    "\n",
    "    return (t, x)"
   ]
  },
  {
   "cell_type": "markdown",
   "metadata": {},
   "source": [
    "Let's now see that this works. "
   ]
  },
  {
   "cell_type": "code",
   "execution_count": 16,
   "metadata": {},
   "outputs": [
    {
     "name": "stdout",
     "output_type": "stream",
     "text": [
      "[[0.         1.        ]\n",
      " [0.1        1.1       ]\n",
      " [0.2        1.21      ]\n",
      " [0.3        1.331     ]\n",
      " [0.4        1.4641    ]\n",
      " [0.5        1.61051   ]\n",
      " [0.6        1.771561  ]\n",
      " [0.7        1.9487171 ]\n",
      " [0.8        2.14358881]\n",
      " [0.9        2.35794769]\n",
      " [1.         2.59374246]]\n"
     ]
    }
   ],
   "source": [
    "SimulationTime = 1.0 # time to solve for\n",
    "P0 = 1.0             # initial population size\n",
    "dt = 0.1             # time step \n",
    "\n",
    "# solve the equation with GrowthRate=1.0 for the Malthus growth\n",
    "t, P = EulerArg(MalthusParam, 0.0, P0, SimulationTime, dt, args=(1.0))\n",
    "\n",
    "print(np.transpose(np.vstack((t, P))))"
   ]
  },
  {
   "cell_type": "markdown",
   "metadata": {},
   "source": [
    ">### Your Turn\n",
    "Use the integrator that accepts parameters and the `MalthusParams` function in the code above to allow for solution of Malthusian growth with an arbitrary parameter. Repeat the same for the growth with the carrying capacity."
   ]
  },
  {
   "cell_type": "code",
   "execution_count": null,
   "metadata": {},
   "outputs": [],
   "source": []
  }
 ],
 "metadata": {
  "kernelspec": {
   "display_name": "Python 3",
   "language": "python",
   "name": "python3"
  },
  "language_info": {
   "codemirror_mode": {
    "name": "ipython",
    "version": 3
   },
   "file_extension": ".py",
   "mimetype": "text/x-python",
   "name": "python",
   "nbconvert_exporter": "python",
   "pygments_lexer": "ipython3",
   "version": "3.7.1"
  }
 },
 "nbformat": 4,
 "nbformat_minor": 2
}
