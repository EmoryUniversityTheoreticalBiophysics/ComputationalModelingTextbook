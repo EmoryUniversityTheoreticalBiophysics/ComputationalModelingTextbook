{
 "cells": [
  {
   "cell_type": "markdown",
   "metadata": {},
   "source": [
    "# Progress Report 2, Module 1\n",
    "### Physics/Biology 212, Spring 2020\n",
    "Designed by Ilya Nemenman, 2020\n",
    "\n",
    "## Student Name:\n",
    "### Group members, if any:\n",
    "### Date:"
   ]
  },
  {
   "cell_type": "markdown",
   "metadata": {},
   "source": [
    " Make sure you read Chapters 4.3 and 6.1, 6.3, 6.4, 6.9 of the *Student Guide* alongside with this notebook.\n",
    " \n",
    "## Exercises from *Module 2* Jupyter notebook\n"
   ]
  },
  {
   "cell_type": "markdown",
   "metadata": {},
   "source": [
    "### Your turn 3.1\n",
    "Explore the objects involved in plotting by using `dir` and then calling various methods associated with the objects. Change the font of the x-lable of the Malthusian growth figure from the main notebook, and change color and the linetype of the exact solution line, and then re-render the figure. Note that I am not asking you to create a new figure with different properties, but to find methods to change properties of the current figure and then show a new rendering of it."
   ]
  },
  {
   "cell_type": "code",
   "execution_count": null,
   "metadata": {},
   "outputs": [],
   "source": []
  },
  {
   "cell_type": "markdown",
   "metadata": {},
   "source": [
    "### Your turn 3.2\n",
    "Explore how the solution of an ODE using the Euler method depends on $dt$: is the Euler method really a first order method? For this, evaluate the solution at different $dt$ for the final time of $t=1$, initial condition $n_0=1$, and growth rate of 1. The final result should be the value of $e$, or `np.exp(1)`. Explore the difference between the analytical solution and the numerical result for different $dt$. Plot the dependence of the final error on $dt$. Plot this dependence in the log-log coordinates. Repeat this for the equation $\\frac{dx}{dt}= t$, which also has an easy analytical solution. This way you can convince yourself that the linear dependence of the accuracy on $dt$ is the property of the algorithm, and not of the actual differential equation being solved."
   ]
  },
  {
   "cell_type": "code",
   "execution_count": null,
   "metadata": {},
   "outputs": [],
   "source": []
  },
  {
   "cell_type": "code",
   "execution_count": 1,
   "metadata": {},
   "outputs": [],
   "source": [
    "def Malthus(Population):\n",
    "    \"\"\"\n",
    "    This function returns the growth rate of a simple exponential growth\n",
    "\n",
    "    Usage: Growth = Malthus(Population)\n",
    "\n",
    "        Population -- current population size, in A.U\n",
    "        \n",
    "        Growth -- population growth, 1/hr\n",
    "    \"\"\"\n",
    "    GrowthRate = 1.0         # growth rate per bacterium, 1/hrs\n",
    "    return GrowthRate*Population"
   ]
  },
  {
   "cell_type": "markdown",
   "metadata": {},
   "source": [
    "### Your turn 3.3\n",
    "In the code above, what does the `\"\"\"` syntaxis stand for? Explain and verify by calling an appropriate Python command."
   ]
  },
  {
   "cell_type": "markdown",
   "metadata": {},
   "source": []
  },
  {
   "cell_type": "markdown",
   "metadata": {},
   "source": [
    "### Your turn 3.4\n",
    "Plot the function `MalthusCapacityParams()` from the main notebook for your choice of parameters and range of the population sizes. Make sure your plots have axis labels, titles, and legends."
   ]
  },
  {
   "cell_type": "code",
   "execution_count": null,
   "metadata": {},
   "outputs": [],
   "source": []
  },
  {
   "cell_type": "markdown",
   "metadata": {},
   "source": [
    "### Your turn 3.5\n",
    "Using the code we wrote for the previous module, write a *function* that solves a quadratic equation, receiving the three coefficients of the quadratic polynomial as arguments, and returning the two roots. "
   ]
  },
  {
   "cell_type": "code",
   "execution_count": null,
   "metadata": {},
   "outputs": [],
   "source": []
  },
  {
   "cell_type": "markdown",
   "metadata": {},
   "source": [
    "### Your turn 3.6\n",
    "Create a tuple `t` of  floating point numbers of your choice, and print the tuple, and then print `*t`. Explain the what you see"
   ]
  },
  {
   "cell_type": "code",
   "execution_count": null,
   "metadata": {},
   "outputs": [],
   "source": []
  },
  {
   "cell_type": "markdown",
   "metadata": {},
   "source": [
    "### Functions with arguments as functions: Euler solver\n",
    "We are now at a point, where we can write the Euler solver as a function, which will take as an argument *the name of the function that must be integrated*. This is interesting -- an entire function can be an argument to another function in Python.\n"
   ]
  },
  {
   "cell_type": "code",
   "execution_count": 8,
   "metadata": {},
   "outputs": [],
   "source": [
    "def Euler(xPrime, t0=0.0, x0=0.0, T=1.0, dt=0.1):\n",
    "    \"\"\"\n",
    "    Solves one variable ODE using the Euler method.\n",
    "    Usage:\n",
    "        (t,x) = Euler(xPrime,t0=0.0,x0=0.0,T=1.0,dt=0.1):\n",
    "        \n",
    "        xPrime -- the right hand side of the equation dx/dt = f, which must be integrated\n",
    "        t0 -- starting time (default 0.0)\n",
    "        x0 -- intitial condition for x (default 0.0)\n",
    "        T -- ending time (default 1.0)\n",
    "        dt -- time step (default 0.1)\n",
    "        \n",
    "        result -- arrays of time and the corresponding solution of the ODE \n",
    "    \"\"\"\n",
    "    t = np.arange(t0, T+dt, dt)    # initialize the array of time points\n",
    "    x = np.zeros(t.size)           # initiatize the array of results at those time points\n",
    "    x[0] = x0                      # set the initial conditions\n",
    "    for i in range(1, t.size):\n",
    "        x[i] = x[i-1] + dt * xPrime(x[i-1])\n",
    "\n",
    "    return (t, x)"
   ]
  },
  {
   "cell_type": "markdown",
   "metadata": {},
   "source": [
    "We now are in a position of actually solving the malthusian growth using the newly written growth and integration function."
   ]
  },
  {
   "cell_type": "code",
   "execution_count": 9,
   "metadata": {},
   "outputs": [
    {
     "name": "stdout",
     "output_type": "stream",
     "text": [
      "Time; Population -- Without / With Carrying Capacity\n",
      "[[0.         1.         1.        ]\n",
      " [0.1        1.1        1.09      ]\n",
      " [0.2        1.21       1.187119  ]\n",
      " [0.3        1.331      1.29173838]\n",
      " [0.4        1.4641     1.40422634]\n",
      " [0.5        1.61051    1.52493046]\n",
      " [0.6        1.771561   1.65416938]\n",
      " [0.7        1.9487171  1.79222355]\n",
      " [0.8        2.14358881 1.93932525]\n",
      " [0.9        2.35794769 2.09564796]\n",
      " [1.         2.59374246 2.26129535]]\n"
     ]
    }
   ],
   "source": [
    "SimulationTime = 1.0 # time to solve for\n",
    "P0 = 1.0             # initial population size\n",
    "dt = 0.1             # time step \n",
    "\n",
    "t, P = Euler(Malthus, 0.0, P0, SimulationTime, dt) # solve the equation\n",
    "\n",
    "# and now the same for carrying capacity. Notice how only the function name changes:\n",
    "t, Pc = Euler(MalthusCapacity, 0.0, P0, SimulationTime, dt) # solve the equation\n",
    "\n",
    "print('Time; Population -- Without / With Carrying Capacity')\n",
    "print(np.transpose(np.vstack((t, P, Pc))))"
   ]
  },
  {
   "cell_type": "markdown",
   "metadata": {},
   "source": [
    "Sometimes the function we need to solve takes its own arguments, such as the `GrowthRate` for `Malthus()`. The code below rewrites the Euler solver in such a way that it take the arguments using the variable arguments list construction `arg=()`, and then passes them all to the xPrime function. By convention, the solver passes the arguments to `xPrime()` in the following order: current state variable `x`, current time `t`, and then all other variables. It is because of this convention that we had to make `t` the second argument to `MalthusParam()` and `MalthusCapacityParam()`. "
   ]
  },
  {
   "cell_type": "code",
   "execution_count": 15,
   "metadata": {},
   "outputs": [],
   "source": [
    "def EulerArg(xPrime, t0=0.0, x0=0.0, T=1.0, dt=0.1, args=()):\n",
    "    \"\"\"\n",
    "    Solves 1-d ODE using the Euler method.\n",
    "\n",
    "    EulerArg(xPrime,t0=0.0,x0=0.0,T=1.0,dt=0.1,args=()):\n",
    "    \n",
    "        \n",
    "        xPrime -- the right hand side of the equation dx/dt = f, which must be integrated\n",
    "        t0 -- starting time (default 0.0)\n",
    "        x0 -- intitial condition for x (default 0.0)\n",
    "        T -- ending time (default 1.0)\n",
    "        dt -- time step (default 0.1)\n",
    "        arg=() - arguments to be passes to the xPrime function \n",
    "        \n",
    "        result -- arrays of time and the corresponding solution of the ODE \n",
    "    \"\"\"\n",
    "    t = np.arange(0, T+dt, dt)\n",
    "    x = np.zeros(t.size)\n",
    "    x[0] = x0\n",
    "    for i in range(1, t.size):\n",
    "        x[i] = x[i-1] + dt * xPrime(x[i-1], t[i-1], args)\n",
    "\n",
    "    return (t, x)"
   ]
  },
  {
   "cell_type": "markdown",
   "metadata": {},
   "source": [
    "Let's now see that this works. "
   ]
  },
  {
   "cell_type": "code",
   "execution_count": 16,
   "metadata": {},
   "outputs": [
    {
     "name": "stdout",
     "output_type": "stream",
     "text": [
      "[[0.         1.        ]\n",
      " [0.1        1.1       ]\n",
      " [0.2        1.21      ]\n",
      " [0.3        1.331     ]\n",
      " [0.4        1.4641    ]\n",
      " [0.5        1.61051   ]\n",
      " [0.6        1.771561  ]\n",
      " [0.7        1.9487171 ]\n",
      " [0.8        2.14358881]\n",
      " [0.9        2.35794769]\n",
      " [1.         2.59374246]]\n"
     ]
    }
   ],
   "source": [
    "SimulationTime = 1.0 # time to solve for\n",
    "P0 = 1.0             # initial population size\n",
    "dt = 0.1             # time step \n",
    "\n",
    "# solve the equation with GrowthRate=1.0 for the Malthus growth\n",
    "t, P = EulerArg(MalthusParam, 0.0, P0, SimulationTime, dt, args=(1.0))\n",
    "\n",
    "print(np.transpose(np.vstack((t, P))))"
   ]
  },
  {
   "cell_type": "markdown",
   "metadata": {},
   "source": [
    ">### Your Turn\n",
    "Use the integrator that accepts parameters and the `MalthusParams` function in the code above to allow for solution of Malthusian growth with an arbitrary parameter. Repeat the same for the growth with the carrying capacity."
   ]
  },
  {
   "cell_type": "code",
   "execution_count": null,
   "metadata": {},
   "outputs": [],
   "source": []
  }
 ],
 "metadata": {
  "kernelspec": {
   "display_name": "Python 3",
   "language": "python",
   "name": "python3"
  },
  "language_info": {
   "codemirror_mode": {
    "name": "ipython",
    "version": 3
   },
   "file_extension": ".py",
   "mimetype": "text/x-python",
   "name": "python",
   "nbconvert_exporter": "python",
   "pygments_lexer": "ipython3",
   "version": "3.7.1"
  }
 },
 "nbformat": 4,
 "nbformat_minor": 2
}
