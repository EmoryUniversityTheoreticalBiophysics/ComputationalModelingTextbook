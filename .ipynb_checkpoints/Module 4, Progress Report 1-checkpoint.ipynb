{
 "cells": [
  {
   "cell_type": "markdown",
   "metadata": {},
   "source": [
    "# Progress Report 1, Module 4\n",
    "### Physics/Biology 212, Spring 2020\n",
    "Designed by Ilya Nemenman, 2020\n",
    "\n",
    "## Student Name:\n",
    "### Group members, if any:\n",
    "### Date:"
   ]
  },
  {
   "cell_type": "markdown",
   "metadata": {},
   "source": [
    "## Exercises from the *Student Guide*\n",
    "### Your turn 6.B\n",
    "Simulate a random walk. Follow the *Student Guide* and then\n",
    "1. Do a simple algebraic operation on `x_step` that maps each 1 to +1 and each 0 to −1. Do the same for y_step. 2. Next, convert these arrays into successive positions of the random walker. Consult `help(np.cumsum)` to see why that function is useful. \n",
    "3. Write a script to make a picture of your random walk, and run it several times.\n"
   ]
  },
  {
   "cell_type": "code",
   "execution_count": null,
   "metadata": {},
   "outputs": [],
   "source": []
  },
  {
   "cell_type": "markdown",
   "metadata": {},
   "source": [
    "### Your turn 6.C\n",
    "Work with  histogramming, as described in the *Student Guide*. Try it [the code above the exercise in the textbook], and inspect the return values to make sure you understand how these functions generate a histogram. Note, in particular, the numbers of elements in the two arrays."
   ]
  },
  {
   "cell_type": "code",
   "execution_count": null,
   "metadata": {},
   "outputs": [],
   "source": []
  },
  {
   "cell_type": "markdown",
   "metadata": {},
   "source": [
    "### Your turn 6.D\n",
    "Make a surface plot of the function $z = x^2 + y^2$ over a suitable grid of values, where $x$ and $y$ range from −1 to 1.\n"
   ]
  },
  {
   "cell_type": "code",
   "execution_count": null,
   "metadata": {},
   "outputs": [],
   "source": []
  },
  {
   "cell_type": "markdown",
   "metadata": {},
   "source": [
    "## Exercises from the *Stochastic simulations* notebook\n",
    "### Your turn 5.1\n",
    "Think of and list various physical, chemical, biological processes that involve randomness (e.g., mutations and recombinations in biology, turbulence in physics, and so on) and decide to which of the classes of uses of random numbers deined above they belong."
   ]
  },
  {
   "cell_type": "markdown",
   "metadata": {},
   "source": [
    "Your answer: "
   ]
  },
  {
   "cell_type": "markdown",
   "metadata": {},
   "source": [
    "### Your Turn 5.2\n",
    "\n",
    "Complete the exercises on _[this page](http://faculty.rhodes.edu/wetzel/random/mainbody.html)__ . Have you been able to generate good sequences of random numbers? Post your statistics from the web site"
   ]
  },
  {
   "cell_type": "markdown",
   "metadata": {},
   "source": [
    "Your answer:"
   ]
  },
  {
   "cell_type": "markdown",
   "metadata": {},
   "source": [
    "### Your turn 5.3\n",
    "Do `dir(nprnd)` and explore which new functions `nprnd` provides.  "
   ]
  },
  {
   "cell_type": "code",
   "execution_count": null,
   "metadata": {},
   "outputs": [],
   "source": []
  },
  {
   "cell_type": "markdown",
   "metadata": {},
   "source": [
    "### Your turn 5.4\n",
    "Experiment with the parameter `n_rands` in the code provided and convince yourself that as it increases, the histogram becomes more and more uniform. Plot histograms with different values of this paramter below."
   ]
  },
  {
   "cell_type": "code",
   "execution_count": null,
   "metadata": {},
   "outputs": [],
   "source": []
  },
  {
   "cell_type": "markdown",
   "metadata": {},
   "source": [
    "### Your turn 5.5.\n",
    "Explore how choosing parameters of the linear congruential generator affects its performance. Experiment with the function from the notebook by trying other (small) values of the modulus, increment, and the multiplier. What happens if the multiplier has common divisers with the modulus? Now make sure to make your own choices, and see what works well and what doesn't. Here's one that is not too good and has a period much shorter than the modulus. Notice the patterns of correlation among consecutive random numbers."
   ]
  },
  {
   "cell_type": "code",
   "execution_count": null,
   "metadata": {},
   "outputs": [],
   "source": []
  },
  {
   "cell_type": "markdown",
   "metadata": {},
   "source": [
    "### Your turn 5.6\n",
    "Make sure to run each cell from the notebook multiple times to convince yourself that the generated numbers indeed change. Show histograms below."
   ]
  },
  {
   "cell_type": "code",
   "execution_count": null,
   "metadata": {},
   "outputs": [],
   "source": []
  },
  {
   "cell_type": "markdown",
   "metadata": {},
   "source": [
    "### Your turn 5.7\n",
    "Look at the histogram for the nonuniform dice simulation. The bins are not positioned uniformly, and are not centered about the integers $1,\\dots,6$. Figure out how to make the figure look nicer."
   ]
  },
  {
   "cell_type": "code",
   "execution_count": null,
   "metadata": {},
   "outputs": [],
   "source": []
  }
 ],
 "metadata": {
  "kernelspec": {
   "display_name": "Python 3",
   "language": "python",
   "name": "python3"
  },
  "language_info": {
   "codemirror_mode": {
    "name": "ipython",
    "version": 3
   },
   "file_extension": ".py",
   "mimetype": "text/x-python",
   "name": "python",
   "nbconvert_exporter": "python",
   "pygments_lexer": "ipython3",
   "version": "3.7.1"
  }
 },
 "nbformat": 4,
 "nbformat_minor": 2
}
