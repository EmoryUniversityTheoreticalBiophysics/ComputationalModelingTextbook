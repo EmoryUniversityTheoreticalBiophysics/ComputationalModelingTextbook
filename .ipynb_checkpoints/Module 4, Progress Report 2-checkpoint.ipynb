{
 "cells": [
  {
   "cell_type": "markdown",
   "metadata": {},
   "source": [
    "# Progress Report 1, Module 4\n",
    "### Physics/Biology 212, Spring 2020\n",
    "Designed by Ilya Nemenman, 2020\n",
    "\n",
    "## Student Name:\n",
    "### Group members, if any:\n",
    "### Date:"
   ]
  },
  {
   "cell_type": "markdown",
   "metadata": {},
   "source": [
    "## Exercises from the *Stochastic simulations* notebook"
   ]
  },
  {
   "cell_type": "markdown",
   "metadata": {},
   "source": [
    "### Your turn 5.8\n",
    "Time how long it takes each of the generators to generate $10^6$ points in a circle. Which one is faster? (Focus only on *Methods 3, 4*, because the first two are incorrect. In general, performing complex arithmetic operations (trigonometric functions and roots) takes time, slowing down *Method 3*. On the other hand, memory management in *Method 4*, and specifically recursive calls to the function, as well as creating arrays and then stacking them to produce the final output, is also costly. Which of the methods won in your case? Now write an even faster method, which simply generates a bit too many points to start with, so that it almost never has to do the recursive calls. Suprisingly, even though this is wasteful (we generate and then throw away potentially many numbers), as long as it is not too wasteful, such method will be the fastest. *Note: it only takes a few small changes to the function `rnd_circle_rejection()` to implement this.*"
   ]
  },
  {
   "cell_type": "code",
   "execution_count": null,
   "metadata": {},
   "outputs": [],
   "source": []
  },
  {
   "cell_type": "markdown",
   "metadata": {},
   "source": [
    "### Your turn 5.9\n",
    "Harden (that is, make more bullet-proof) the function `mc_integr()` to be able to handle various user errors. First, expand the function to allow areas under the curve to be negative (this will require you to also have an `fmin` argument, in addition to `fmax`). Second, check if any values of `to_integr(x)` generated in the process of integration fall outside of the range $[f_{\\rm min}, f_{\\rm max}]$. If they do, then expand the range appropriately. Return not just the estimate of the area, but the estimates of $f_{\\rm min}$ and $f_{\\rm max}$ as well."
   ]
  },
  {
   "cell_type": "code",
   "execution_count": null,
   "metadata": {},
   "outputs": [],
   "source": []
  },
  {
   "cell_type": "markdown",
   "metadata": {},
   "source": [
    "### Your turn 5.10\n",
    "Run the cells that plot the mean $x$ and $y$ displacement for $N$ walks with a th larger $N$ and convince yourself that the mean $x$ and $y$ displacements decrease as $N\\to\\infty$."
   ]
  },
  {
   "cell_type": "code",
   "execution_count": null,
   "metadata": {},
   "outputs": [],
   "source": []
  },
  {
   "cell_type": "markdown",
   "metadata": {},
   "source": [
    "### Your turn 5.11\n",
    "Derive the factor of $(3/2)^{1/2}$ used in the generation of the CSDT random walk to match its mean squared displacement to a DSDT walk."
   ]
  },
  {
   "cell_type": "markdown",
   "metadata": {},
   "source": []
  },
  {
   "cell_type": "markdown",
   "metadata": {},
   "source": [
    "### Your turn 5.12\n",
    "Generate either a CSDT random walk where the distribution of step sizes is exponential, or the DSCT walk where distribution of time steps is exponential and show that the same linear scaling of the MSD is observed. "
   ]
  },
  {
   "cell_type": "code",
   "execution_count": null,
   "metadata": {},
   "outputs": [],
   "source": []
  },
  {
   "cell_type": "markdown",
   "metadata": {},
   "source": [
    "### Your turn 5.13\n",
    "Demonstrate thruogh simulations that the CLT property holds for the walks you defined in *Your turn 5.12* exercise."
   ]
  },
  {
   "cell_type": "code",
   "execution_count": null,
   "metadata": {},
   "outputs": [],
   "source": []
  },
  {
   "cell_type": "markdown",
   "metadata": {},
   "source": [
    "### Your turn 5.14\n",
    "Verify that the variance of the $x$ displacement of the walks that you simulated is, indeed, the sum of variances of the individual displacements (for this, you will need to calculate the latter variance analytically)."
   ]
  },
  {
   "cell_type": "markdown",
   "metadata": {},
   "source": []
  }
 ],
 "metadata": {
  "kernelspec": {
   "display_name": "Python 3",
   "language": "python",
   "name": "python3"
  },
  "language_info": {
   "codemirror_mode": {
    "name": "ipython",
    "version": 3
   },
   "file_extension": ".py",
   "mimetype": "text/x-python",
   "name": "python",
   "nbconvert_exporter": "python",
   "pygments_lexer": "ipython3",
   "version": "3.7.1"
  }
 },
 "nbformat": 4,
 "nbformat_minor": 2
}
