{
 "cells": [
  {
   "cell_type": "markdown",
   "metadata": {},
   "source": [
    "# Module 5, Progress Report 1\n",
    "### Physics/Biology 212, Spring 2020\n",
    "Designed by Ilya Nemenman, 2020\n",
    "\n",
    "## Student Name:\n",
    "### Group members, if any:\n",
    "### Date:"
   ]
  },
  {
   "cell_type": "markdown",
   "metadata": {},
   "source": [
    "### Your turn 6.1\n",
    "Suggest one other arrangement not discussed in the lecture notes of how tasks can be divided among multiple workers. "
   ]
  },
  {
   "cell_type": "markdown",
   "metadata": {},
   "source": [
    "Your answer:"
   ]
  },
  {
   "cell_type": "markdown",
   "metadata": {},
   "source": [
    "### Your turn 6.2:\n",
    "Derive the two-dimensional and the three-dimensional heat diffusion equation."
   ]
  },
  {
   "cell_type": "markdown",
   "metadata": {},
   "source": [
    "Your answer:"
   ]
  },
  {
   "cell_type": "markdown",
   "metadata": {},
   "source": [
    "### Your turn 6.3\n",
    "Time the solution of the diffusion equation for different $L$ at fixed $\\Delta x$. How do you expect the complexity of the problem to grown with $L$? How does it grow with $L$?"
   ]
  },
  {
   "cell_type": "code",
   "execution_count": null,
   "metadata": {},
   "outputs": [],
   "source": []
  },
  {
   "cell_type": "markdown",
   "metadata": {},
   "source": [
    "### Your turn 6.4\n",
    "Write functions to implement absorbing and periodic boundary conditions. While the periodic conditions are simple, the absorbing conditions may require more work (see the discussion in the text) because they need an argument for the value of the temperature at the boundary. There are multiple ways of implementing this. First, you may have the temperature at the boundary (either a single constant, or the entire $T(x,y)$ on the boundary rim) as a global variable, and then your `absorbing()` function would use it. Second, you may change the `sequential()` function in a way to allow for a variable number of arguments, one of which -- if it is set --  could be the boundary temperate, and then to pass this variable set of arguments to the function encoded in the argument `boundary`, which can now be your `absorbing()` function. Third you can discard usage of separate `absorbing()`, `reflecting()`, or `periodic()` functions, and instead write a single `boundary_rim()` function, which woud take as the arguments the lattice and the four boundary arrays (left, right, top, bottom), and then different boundary conditions would be implemented inside the `sequential()` function, which would pass different boundary arrays as arguments to the `boundary_rim()`. Or you can try something totally different. It's your choice. When the program is working, explore how the heat diffuses in this system. For this you may need to decrease $L$ and increase $T$ (keep other parameters stationary for now). Verify your boundary condition functions as discussed in the lecture notes."
   ]
  },
  {
   "cell_type": "code",
   "execution_count": null,
   "metadata": {},
   "outputs": [],
   "source": []
  },
  {
   "cell_type": "markdown",
   "metadata": {},
   "source": [
    "### Your turn 6.5\n",
    "The Euler finite difference scheme for solving the diffusion equation has a well-known instability, called the *von Neumann* instability. When $r=\\frac{D\\Delta t}{\\Delta x^2}>1/2$, the numerical solution behaves erratically, starts oscillating spatially and temproally, and eventually diverges. This critical value is correct for an infinite size system, and problems may emerge even earlier when the system size is smaller. For the parameters in the code above, we have  $r=\\frac{D\\Delta t}{\\Delta x^2} =\\frac{0.5\\times 0.1}{0.5^2} = 0.2<1.2$. Thus the solution should be stable (and it is). Change $D,\\Delta x, \\Delta t$ and observe what happens when you transition from $r=0.2$ to $r=0.6$. Then explore other more extremevalues of $r$."
   ]
  },
  {
   "cell_type": "code",
   "execution_count": null,
   "metadata": {},
   "outputs": [],
   "source": []
  },
  {
   "cell_type": "markdown",
   "metadata": {},
   "source": [
    "### Your turn 6.6\n",
    "How many logical processors does your computer have?"
   ]
  },
  {
   "cell_type": "code",
   "execution_count": null,
   "metadata": {},
   "outputs": [],
   "source": []
  },
  {
   "cell_type": "markdown",
   "metadata": {},
   "source": [
    "### Your turn 6.7\n",
    "Become familiar with the simple concurrent summation of numbers. Run the code with different values of `n_w`, including values that are not divisors of `maxnum`. Does the program handle this well? Plot the speedup due to the parallel execution time as a function of `n_w` (you may need to average the run times over a few equivalent runs, to avoid fluctuations due to unrelated work that your computer performs). What is the best value of `n_w` for speed? How does it compare with your number of CPUs?"
   ]
  },
  {
   "cell_type": "code",
   "execution_count": null,
   "metadata": {},
   "outputs": [],
   "source": []
  },
  {
   "cell_type": "markdown",
   "metadata": {},
   "source": [
    "### Your turn 6.8\n",
    "Explain why the speedup is never as high as the number of CPUs."
   ]
  },
  {
   "cell_type": "markdown",
   "metadata": {},
   "source": [
    "Answer: "
   ]
  },
  {
   "cell_type": "markdown",
   "metadata": {},
   "source": [
    "### Your turn 6.9\n",
    "If you are running Windows, the simple multiprocessing code above likely won't work. Move it into a loadable module, and it should now work. That is, create a module `multiprocessing_sum`. In that module, import `numpy`, `time`, `multiprocessing`, and any other modules you need. Move the definition of functions `sumnum()`, `sum_sequential()` and `sum_parallel()` into that module as well. Now in the main program load your own module, and run `sum_sequential()` and `sum_parallel()`. As explained above, when you now run the parallel processing version, each child process created by `Pool()` will have the modules reloaded automatically, and will thus be able to do perform the above execution. Do this even if you are working on a Mac, and make sure your code with a loadable module works as intended on your machine."
   ]
  },
  {
   "cell_type": "code",
   "execution_count": null,
   "metadata": {},
   "outputs": [],
   "source": []
  }
 ],
 "metadata": {
  "kernelspec": {
   "display_name": "Python 3",
   "language": "python",
   "name": "python3"
  },
  "language_info": {
   "codemirror_mode": {
    "name": "ipython",
    "version": 3
   },
   "file_extension": ".py",
   "mimetype": "text/x-python",
   "name": "python",
   "nbconvert_exporter": "python",
   "pygments_lexer": "ipython3",
   "version": "3.7.1"
  }
 },
 "nbformat": 4,
 "nbformat_minor": 2
}
