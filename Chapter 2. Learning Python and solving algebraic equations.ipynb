{
 "cells": [
  {
   "cell_type": "markdown",
   "metadata": {},
   "source": [
    "# Chapter 2: Learning Python and solving algebraic equations\n",
    "Introduction to the Phys212/Biol212 class\n",
    "### by Ilya Nemenman, 2016-2020"
   ]
  },
  {
   "cell_type": "markdown",
   "metadata": {},
   "source": [
    "Make sure you read Chapters 1 and 2 of the *Student Guide* before this notebook, and that you read Chapters 3 and 4 in parallel with this notebook. Make sure also that you in detail study the code for the cells that I provide below, not just the output of the cells. This is essential if you want to pick up on python programming quickly."
   ]
  },
  {
   "cell_type": "markdown",
   "metadata": {},
   "source": [
    "## Some Python practice \n",
    "Let's first pre-emptively review a few elements in Python coding that many of you probably will have problems with otherwise. \n",
    "\n",
    "### Assignments and comparisons\n",
    "Let's execute the following code:"
   ]
  },
  {
   "cell_type": "code",
   "execution_count": 1,
   "metadata": {},
   "outputs": [
    {
     "name": "stdout",
     "output_type": "stream",
     "text": [
      "0\n",
      "1\n",
      "True\n"
     ]
    }
   ],
   "source": [
    "a = 0\n",
    "a == 1\n",
    "print (a)\n",
    "a = 1\n",
    "print(a)\n",
    "b = (a == 1)\n",
    "print(b)"
   ]
  },
  {
   "cell_type": "markdown",
   "metadata": {},
   "source": [
    "Note that the first line above assigns the value of 0 to the variable `a`. The second line does not do the assignment, but instead compares `a` to 1. Since the result of the comparison is not stored anywhere, it disappears. We can verify that `a` was not changed by the comparison by simply printing it. The next line, in contrast, assigns 1 to `a`. We verify that this, in fact, happened by printing the variable. We again do the comparison of `a` to 1. Notice, however, that this time we store the result of this comparison in a variable $b$, which has the value of `True`, as we can see by printing it."
   ]
  },
  {
   "cell_type": "markdown",
   "metadata": {},
   "source": [
    "### Vector operations\n",
    "You have created numpy arrays in your first lab. Why do we bother with this concept? Arrays allow us to perform vector operations -- instead of, for example, adding two arrays element by element, or copying an array element by element we can do either of these tasks in just one single operation. Let's see how this works."
   ]
  },
  {
   "cell_type": "code",
   "execution_count": 2,
   "metadata": {},
   "outputs": [
    {
     "name": "stdout",
     "output_type": "stream",
     "text": [
      "[0 1 2 3 4 5 6 7 8 9]\n",
      "[1. 1. 1. 1. 1. 1. 1. 1. 1. 1.]\n",
      "[ 1.  2.  3.  4.  5.  6.  7.  8.  9. 10.]\n"
     ]
    }
   ],
   "source": [
    "import numpy as np #importing the numpy module\n",
    "\n",
    "L = 10  # the size of the arrays we will create\n",
    "a = np.arange(L)\n",
    "b = np.ones(L)\n",
    "print(a)\n",
    "print(b)\n",
    "\n",
    "c = a + b\n",
    "print(c)"
   ]
  },
  {
   "cell_type": "markdown",
   "metadata": {},
   "source": [
    "Notice how we didn't have to create `c` separately, and in a single addition operation we were able to add all elements of `a` and `b` into `c`. Such vector operations are, of course, more elegant than doing the same element by element. Importantly, they are also faster, as we will verify shortly. \n",
    "\n",
    "Note that the array `a` is an array of integers. While the arrays `b` and `c` are arrays of real (rather, floating point -- we will discuss what this means in a few lectures) numbers. Real and integer numbers are very different types of objects, and are represented very differently in a computer memory, even if sound very similar to us. Luckily, Python is very forgiving about conversion of types of variables between various integer and real types (there are many of either kind). You can add integers to reals, for example, as the line `c = a+b` above illustrates. For this, Python will automatically convert the array of integers into reals, and then add the real numbers. There are a few cases, however, where one has to be careful, and you surely will run into them. Let's try"
   ]
  },
  {
   "cell_type": "code",
   "execution_count": 3,
   "metadata": {},
   "outputs": [
    {
     "name": "stdout",
     "output_type": "stream",
     "text": [
      "2.0\n"
     ]
    },
    {
     "ename": "IndexError",
     "evalue": "only integers, slices (`:`), ellipsis (`...`), numpy.newaxis (`None`) and integer or boolean arrays are valid indices",
     "output_type": "error",
     "traceback": [
      "\u001b[0;31m---------------------------------------------------------------------------\u001b[0m",
      "\u001b[0;31mIndexError\u001b[0m                                Traceback (most recent call last)",
      "\u001b[0;32m<ipython-input-3-33a8a1a8e502>\u001b[0m in \u001b[0;36m<module>\u001b[0;34m\u001b[0m\n\u001b[1;32m      1\u001b[0m \u001b[0mprint\u001b[0m\u001b[0;34m(\u001b[0m\u001b[0mc\u001b[0m\u001b[0;34m[\u001b[0m\u001b[0;36m1\u001b[0m\u001b[0;34m]\u001b[0m\u001b[0;34m)\u001b[0m\u001b[0;34m\u001b[0m\u001b[0;34m\u001b[0m\u001b[0m\n\u001b[0;32m----> 2\u001b[0;31m \u001b[0mprint\u001b[0m\u001b[0;34m(\u001b[0m\u001b[0mc\u001b[0m\u001b[0;34m[\u001b[0m\u001b[0;36m1.0\u001b[0m\u001b[0;34m]\u001b[0m\u001b[0;34m)\u001b[0m\u001b[0;34m\u001b[0m\u001b[0;34m\u001b[0m\u001b[0m\n\u001b[0m",
      "\u001b[0;31mIndexError\u001b[0m: only integers, slices (`:`), ellipsis (`...`), numpy.newaxis (`None`) and integer or boolean arrays are valid indices"
     ]
    }
   ],
   "source": [
    "print(c[1])\n",
    "print(c[1.0])"
   ]
  },
  {
   "cell_type": "markdown",
   "metadata": {},
   "source": [
    "Note that the first line works, while the second produces an error. You can only refer to an integer position in an array. There's no element with a number 1.5, 2.7, or 1.0. \n",
    "\n",
    "Now let's verify that vector operations are much faster than element by element ones. To measure how long something takes, we need to load a new module `Time`."
   ]
  },
  {
   "cell_type": "code",
   "execution_count": 4,
   "metadata": {},
   "outputs": [
    {
     "data": {
      "text/plain": [
       "['_STRUCT_TM_ITEMS',\n",
       " '__doc__',\n",
       " '__loader__',\n",
       " '__name__',\n",
       " '__package__',\n",
       " '__spec__',\n",
       " 'altzone',\n",
       " 'asctime',\n",
       " 'clock',\n",
       " 'ctime',\n",
       " 'daylight',\n",
       " 'get_clock_info',\n",
       " 'gmtime',\n",
       " 'localtime',\n",
       " 'mktime',\n",
       " 'monotonic',\n",
       " 'monotonic_ns',\n",
       " 'perf_counter',\n",
       " 'perf_counter_ns',\n",
       " 'process_time',\n",
       " 'process_time_ns',\n",
       " 'sleep',\n",
       " 'strftime',\n",
       " 'strptime',\n",
       " 'struct_time',\n",
       " 'time',\n",
       " 'time_ns',\n",
       " 'timezone',\n",
       " 'tzname',\n",
       " 'tzset']"
      ]
     },
     "execution_count": 4,
     "metadata": {},
     "output_type": "execute_result"
    }
   ],
   "source": [
    "import time\n",
    "dir(time)"
   ]
  },
  {
   "cell_type": "markdown",
   "metadata": {},
   "source": [
    ">### Your turn 2.1\n",
    "Explore what different functions in this module do.\n",
    "\n",
    "We will be using the function `time.time()`, which return the time in seconds since the beginning of some standardized epoch as a floating point number. Notice that the function `time.time()` must be called with the parenthesis at the end. Indeed, let's try:"
   ]
  },
  {
   "cell_type": "code",
   "execution_count": 5,
   "metadata": {},
   "outputs": [
    {
     "name": "stdout",
     "output_type": "stream",
     "text": [
      "<built-in function time>\n",
      "1580304738.203815\n"
     ]
    }
   ],
   "source": [
    "print(time.time)\n",
    "print(time.time())"
   ]
  },
  {
   "cell_type": "markdown",
   "metadata": {},
   "source": [
    ">### Your turn 2.2\n",
    "Explain the results of the Python output above.\n",
    "\n",
    "Now let's see how long vector and non-vector versions of the same operations take. "
   ]
  },
  {
   "cell_type": "code",
   "execution_count": 6,
   "metadata": {},
   "outputs": [
    {
     "name": "stdout",
     "output_type": "stream",
     "text": [
      "The vector addition took 0.0017158985137939453 sec.\n"
     ]
    }
   ],
   "source": [
    "L = 100000        # length of the vectors we will operate with\n",
    "a = np.arange(L)  # creating these long vectors\n",
    "b = np.ones(L)\n",
    "\n",
    "# now let's add a and b as a vector  operation and see how long it takes\n",
    "t = time.time()   # store the current time in the variable t\n",
    "c = a+b\n",
    "print ('The vector addition took', time.time()-t, 'sec.')"
   ]
  },
  {
   "cell_type": "markdown",
   "metadata": {},
   "source": [
    ">### Your turn 2.3\n",
    "Run the cell above multiple times. Does it always time the same duration of time to execute the same command?\n",
    "\n",
    "Now let's do the same operation using element by element addition."
   ]
  },
  {
   "cell_type": "code",
   "execution_count": 7,
   "metadata": {},
   "outputs": [
    {
     "name": "stdout",
     "output_type": "stream",
     "text": [
      "Element by element addition with pre-allocated memory took 0.3061378002166748 sec.\n"
     ]
    }
   ],
   "source": [
    "t = time.time()  # store the current time in the variable t\n",
    "\n",
    "c = np.zeros(L)  # preallocate memory for an empty array\n",
    "for i in np.arange(L):  # do element-by-element addition\n",
    "    c[i] = a[i] + b[i]\n",
    "    \n",
    "print ('Element by element addition with pre-allocated memory took', time.time() - t, 'sec.')"
   ]
  },
  {
   "cell_type": "markdown",
   "metadata": {},
   "source": [
    "Notice how much longer it took to execute the same operation. But this is not the worst. Let's try the following."
   ]
  },
  {
   "cell_type": "code",
   "execution_count": 8,
   "metadata": {},
   "outputs": [
    {
     "name": "stdout",
     "output_type": "stream",
     "text": [
      "[]\n",
      "Element by element addition with pre-allocated memory took 2.814389944076538 sec.\n"
     ]
    }
   ],
   "source": [
    "t = time.time()  # store the current time in the variable t\n",
    "\n",
    "c = np.arange(0) # create a null array (array with no elements)\n",
    "print(c)\n",
    "\n",
    "for i in np.arange(L): # do element-by-element addition while growing the array\n",
    "    c = np.hstack((c, a[i] + b[i]))\n",
    "    \n",
    "print ('Element by element addition with pre-allocated memory took', time.time() - t, 'sec.')"
   ]
  },
  {
   "cell_type": "markdown",
   "metadata": {},
   "source": [
    ">### Your turn 2.4\n",
    "Why do we use double perentheses ((...)) in the call to `np.hstack()`?\n",
    "\n",
    "Why does this happen? The vector operations are the fastest -- they are encoded using low-level computer language, and are optimized internally. The element-wise edition takes longer because at every point in the cycle the Python interpreter has to do a variety of checks, such as is `a` an array? Does it have an element `i`? And the same for `b` and `c`, and all of this takes time. Finally, in the third version, every time we stack the arrays together, a new array gets created. **We will discuss this in class in more detail, and I wil add a figure later to explain this.**"
   ]
  },
  {
   "cell_type": "markdown",
   "metadata": {},
   "source": [
    "## Solving a quadratic equation\n",
    "\n",
    "Let's say we want to solve a quadratic equation $$ax^2+bx+c=0.$$ The two solutions of this are given by $$x_{1,2}=\\frac{-b\\pm \\sqrt{b^2-4ac}}{2a},$$\n",
    "where $D=b^2-4ac$ is called the discriminant. Let's write a short script to solve this. \n",
    "\n",
    "We start with the initialization block. Normally we would import `numpy` and other modules here as well, but now we do not need to do this, this numpy was just imported above."
   ]
  },
  {
   "cell_type": "code",
   "execution_count": 9,
   "metadata": {},
   "outputs": [],
   "source": [
    "a = 1.0  #initializing parameter values\n",
    "b = 2.0\n",
    "c = -2.0"
   ]
  },
  {
   "cell_type": "markdown",
   "metadata": {},
   "source": [
    "Now we calculate the square root of the determinant using the `numpy.np` function, and print the two roots."
   ]
  },
  {
   "cell_type": "code",
   "execution_count": 10,
   "metadata": {},
   "outputs": [
    {
     "name": "stdout",
     "output_type": "stream",
     "text": [
      "0.7320508075688772\n",
      "-2.732050807568877\n"
     ]
    }
   ],
   "source": [
    "sD = np.sqrt(b**2-4*a*c)\n",
    "x1 = (-b+sD)/(2*a)\n",
    "x2 = (-b-sD)/(2*a)\n",
    "\n",
    "print(x1)\n",
    "print(x2)"
   ]
  },
  {
   "cell_type": "markdown",
   "metadata": {},
   "source": [
    "This code would work well often, but not always. For example, change `c` to 2.0 above and rerun the cell. What happened? This introduces the idea of checking of **exceptions**: what if the discriminant is zero? or negative? or if `a` is equal to 0? In any sufficiently complex real-life code, you will probably spend more time idenfying such exceptions and figuring out how to treat them than on solving the bulk of the problem.\n",
    "\n",
    ">### Your turn 2.5\n",
    "Change the code for solving the quadratic equations to address all possible exceptions you can think of, so that the code runs for all values of the parameters `a`, `b`, and `c`. \n",
    "\n",
    ">### Track 2\n",
    "Rewrite the code above to work with complex numbers."
   ]
  },
  {
   "cell_type": "markdown",
   "metadata": {},
   "source": [
    ">### Your turn 2.6\n",
    "Additional exercise: Evaluate a binary log (log base 2) of a number 42 using at least three different sets of commands imported from `numpy`. Verify your result by taking 2 to the appropriate power and seeing if you get 42 back. For this, you will need to remind yourself how logarithms with different bases relate to each other."
   ]
  },
  {
   "cell_type": "markdown",
   "metadata": {},
   "source": [
    "## The first model: Solving for an equilibrium position of charges, a light version\n",
    "We will now postpone further discussion of Python constructions for a bit, and will try to use what we know to solve computational problems. We will turn to our first model, and will follow the steps involved in constructing it, solving it on a computer, and verifying the solution\n",
    "\n",
    "### Problem formulation\n",
    "A charged particle free to move on a rod is put in the between two particles with an electric charge of the same sign affixed to the end of the rod. Where will the charge come to rest?\n",
    "\n",
    "### Analysis\n",
    "Analysis is always the first step in solving the problem. We start with asking hwat kind of model needs to be built for this problem. The model is definitely a continuous space model -- position of the particle is a continuous variable. The model is also deterministic -- there's not a stochastic element present. However, the next question -- whether the model is dynamic or static -- is already harder. At the first glance, this is a dynamic model, since we are talking about *motion* of a charge. On the other hand, we are being asked only about the final equilibrium position. Then maybe this is a static model after all -- we only need to know where the charge comes to rest. IN fact, one can solve the model both ways: either by writing down the equations of motion, modeling the motion, and then seeing where the charges settle, or by finding the equlibrium position directly, which is what we will do here.\n",
    "\n",
    "In any case, whether we decide to solve this as a dynamic or as a static model, to ensure that there is a resting point for the charge, there has to be friction, so that the particle does not keep oscillating infinitely. Nothing is mentioned about this in the problem formulation -- but it seems like this is presumed. If we were to write a report about this problem, we would definitely need to mention this consideration  as a part of our discussion of the problem setup. Is friction the only thing we need? Is it guaranteed that with friction the particle will come to a rest? Same sign particles repel. And the repulsion is stronger when they come closer. So a particle between two other fixed one will be pushed away from both ends -- it seems reasonable that it will come to an equilibrium point at some time if friction robs it of energy. So the solution will exist -- it now makes sense to proceed to finding it by building the model."
   ]
  },
  {
   "cell_type": "markdown",
   "metadata": {},
   "source": [
    "### Model building\n",
    "The equilibrium for the system will be given by $\\sum \\vec{F}=0$, so that if a particle has zero velocity at this point (which the friction will achieve), it stays there. Since the particle is moving on a rod -- in one dimension -- this is equivalent to $\\sum {F}=0$. There are two Coulomb forces acting on the particle from the two end charges. Let's say the charges are at positions $p_1$ and $p_2$, and have charges $q_1$ and $q_2$ respectively. Let's suppose $p_1<x<p_2$, where $x$ is the position of the moving charge. The forces acting on the moving charge, which we call $q$ are then $\\sum F= \\frac{qq_1}{(x-p_1)^2}-\\frac{qq_2}{(x-p_2)^2}$. Thus to solve the problem, we need to solve the following equation for $x$: $\\frac{qq_1}{(x-p_1)^2}-\\frac{qq_2}{(x-p_2)^2}=0$, or, cancelling $q$, $\\frac{q_1}{(x-p_1)^2}-\\frac{q_2}{(x-p_2)^2}=0$. Interestingly, the only variables we need for initialization are the three charge values, and the two end charge positions -- the initial position of the moving charge, and charge value itself seem to be not needed. Multiplying the equation by the two denominators (which, luckily, cannot be zero), we get: ${q_1}{(x-p_2)^2}-{q_2}{(x-p_1)^2}=0$. Simplifying the equation, we get: $$(q_1-q_2) x^2 +2(-q_1p_2+q_2p_1)x+(q_1p_2^2-q_2p_1^2)=0 $$. So it seems that solving this problem is equivalent to solving a simple quadratic equation.\n",
    "\n",
    ">### Your turn 2.7\n",
    "Explore the markdown code of the text above. Notice how we write equations using $\\LaTeX$. Try to pick up some $\\LaTeX$ in the course of this semester. This will be useful for your future carrers as scientists. Minimally, figure out how we use `$` signs for encapsulating equations, `$$` for haveing equations in their own display lines, symbols `^` and `_` for superscripts and subscripts, and a command `\\frac{}{}` for writing fractions. To verify your understanding, write a formula for a ratio of two quadratic polynomials in $x$ of your choosing."
   ]
  },
  {
   "cell_type": "markdown",
   "metadata": {},
   "source": [
    "### Model implementation\n",
    "As suggested earlier, to build a model, we start with large blocks describing chunks of the solution of the problem. We progressively break them apart into smaller and smaller blocks, until we are able to write the code for each one of the blocks. At the same time, as we are implementing the blocks, we collect pieces that need to be initialized in the initialization block, and need to be reported in the termination block. Here we realize that, in the previous lecture, we wrote a simple program that solves the quadratic equation $ax^2+bx+c=0$. Thus implementing the model is equivalent to taking the previously written solution for the quadratic equation. Thus our implementation will consist of just three blocks: (1) initialization, where we assign  $a=q_1-q_2$, $b=2(-q_1p_2+p_2x_1)$, and $q_1p_2^2+q_2p_1^2$; (2) solving the quadratic equation and getting its two solutions; and (3) termination, where, of the two solutions, we then output the one that falls between $p_1$ and $p_2$. \n",
    "\n",
    "### Model verification\n",
    "To verify that the solution is correct, we should try it in cases where the solution is easy to guess or to estimate otherwise, and compare. For example, we can try $q_1=q_2$, where it's clear that the solution should be $x=(p_1+p_2)/2$. We could also choose a few conditions with different $q_1$, and we would expect that growing $q_1$ should push the equilibrium farther from the left end.\n",
    "\n",
    "### Discussion\n",
    "Having solved the problem, we would usually discuss our findings here, and reiterate various constraints and assumptions that entered the solution. However, this problem is too simple too write much here.\n",
    "\n",
    ">### Your turn 2.8\n",
    "Write a model for solving for the equilibrium position of the charge.\n",
    "\n",
    ">### Your turn 2.9\n",
    "Verify that the charge settles exactly in the middle between the two end charges when the latter are equal. Think of two more substantially different verification steps and implement them."
   ]
  },
  {
   "cell_type": "markdown",
   "metadata": {},
   "source": [
    "## The second model: Solving for an equilibrium position, harder version\n",
    "\n",
    "### Problem formulation\t\n",
    "A charged particle free to move on a rod is put in the between the first and the second of three immovable particles with an electric charge of the same sign affixed to the rod at various points. Where will the charge come to rest?\n",
    " \n",
    "### Analysis\n",
    "The same analysis as in the simpler version applies here: we will treatthis as a static, deterministic, continuous space model. As before, we need to assume that there's friction, so that the solution exists, and the moving particle comes to rest.\n",
    " \n",
    "### Model building\n",
    "\n",
    "Again, this is similar to the *light* version. As above, the equilibrium for the system will be given by $\\sum {F}=0$. There are now three Coulomb forces acting on the particle from the fixed charges. Let's say the charges are at positions $p_1<p_2<p_3$, with charges $q_1$, $q_2$, and $q_3$, respectively. Let's suppose again that the movable charge is positioned between the first two $p_1<x<p_2$. Then the solution of the problem will be given by $$\\frac{q_1}{(x-p_1)^2}-\\frac{q_2}{(x-p_2)^2}-\\frac{q_3}{(x-p_3)^2}=0.$$ We notice again that the values of the three charges and their fixed positions are the only things that are needed for the solution. We transform the last equation to $${q_1}{(x-p_2)^2}(x-x_3)^2-{q_2}{(x-p_1)^2}(x-p_3)^2 -{q_2}{(x-p_2)^2}(x-p_1)^2=0.$$ This is not a quartic equation in $x$ anymore, and solving this problem would be equivalent to finding the root of this quartic equation, which falls between $p_1$ and $p_2$. This is going to be more interesting!\n",
    " \t"
   ]
  },
  {
   "cell_type": "markdown",
   "metadata": {},
   "source": [
    "### Model implementation (Newton-Raphson algorithm)\n",
    "The analysis above suggests that the entire model consists of solving for roots of a fourth order polynomial. How do we do this? We now have progressed to learning the first new *computational algorithm*, namely the Newton-Raphson method for finding a root $x^*$ of an algebraic equation $F(x)=0$. It allows to find a root (zero crossings) of more-or-less arbitrary functions, not just of polynomials. Note that many of the algorithms we will deal with will carry the name of Newton, often in combination with others. It is because many of the algorithms use calculus -- they solve the problem by means of analyzing various differential properties of the involved functions. Newton was one of the two main inventors of differential and integral calculus. In addition to his contribution to physics and mathematics, we can also view him as a founder of algorithmic computational sciences -- he turned his newfound calculus knowledge into algorithms, which, in the absence of computers, one could execute using paper and pencil, or rather paper and quill in the case of newton. It is not surprising that many of these algorithms ended up carrying his name. It also reminds us all how important it is to work in a new field, where a lot of discoveries are yet to be made.\n",
    "\n",
    ">### Your turn 2.10\n",
    "Review concepts from single variable differential and integral calculus. Specifically, make sure you remind yourself what Taylor expansions are.\n",
    "\n",
    "Let us suppose that we have a guess $x_0$ for one root of a function $F(x)$. We evaluate the function, $F_0=F(x_0)$, and it turns out that the guess is not quite right, $F_0\\neq 0$. We can then write the Taylor expansion for the function $F$ for the values of $x$ around $x_0$. Namely, $$F(x)\\approx F_0 + G_0(x-x_0),$$ where $G_0$ is the value of the derivative of $F$ evaluated at $x_0$, $G_0=\\left(dF/dx\\right)_{x_0}$. But then we can get a better estimate of where the root is by solving the equation $F_0+G_0(x-x_0)=0$. This would give $x_1=x_0-F_0/G_0$ for the next estimate. Iterating this, one will get $$x_{i+1}=x_i -F_i/G_i.$$ This way we might hope that we will approach the solution progressively better and better, as we iterate more $\\lim_{i\\to\\infty} x_i=x^*$. At some point we will need to stop the iteration. Usually, the stopping condition is a parameter that one adds to the initialization in the experiment: the tolerance $\\epsilon$ for finding the solution. That is, one interrupts the recursion when $\\left|x_{i+1}-x_i\\right|<\\epsilon$. Note that one can also choose to interrupt the solution choice when the function itself is approximately zero, and both approaches are valid. They are, in fact, equivalent for typical functions, but may give different results for various special cases -- and the discussion of this in the *Numerical recipes* book is illuminating. \n",
    "\n",
    "The algorithm seems to be rather straightforward, but it's not as simple as it looks. A few notes are in order. First, the algorithm will only find a root if it is initialized with the initial guess in the root's vicinity. So if one wants to find a root, one needs to have good guesses. And to find all roots, one needs to have initial guesses near all of the roots, and then run the algorithm for each of the guesses. Even then the solution may not exist -- there is no guarantee that the the iterations converge; they can enter cycles or diverge instead. We will explore some of these cases later on graphically. Most of such problems can be tracked to the fact that the iteration step involves dividing by $G(x)$, derivative of the function $F(x)$. When this derivative becomes small, changes to $x$ will be large, which contradicts the assumption we made that the algorithm is being initiated in the vicinity of the root. All sorts of problems will emerge then. A more detailed description of the method and all of these caveats can be found in the __[Numerical Recipes](http://www.aip.de/groups/soe/local/numres/bookcpdf/c9-4.pdf)__ book.\n",
    "\n",
    "Once the Newton solver for roots has been implemented, the rest of the model design is simple. We start with initializing variables, verifying various possible exceptions, finding the root of the equation *force equal to zero*, and then outputting the root. \n",
    "\n",
    ">### Your work 2.11\n",
    "Write down the functions $F$ and $G$ for the problem of finding an equilibrium position of the charge."
   ]
  },
  {
   "cell_type": "markdown",
   "metadata": {},
   "source": [
    "#### Solving for the equilibrium position of the charge using the Newton Raphson solver\n",
    "\n",
    "The results above show that the solution depends on the following variables: $q_1$, $q_2$, $q_3$, $p_1$, $p_2$, $p_3$. The implementation of the algorithm itself neeeds two more parameters: the initial guess for the solution, $x_0$, and the tolerance for finding the equlibirum position. We initialize these parameters in the initialization block. It is always a **good practice** to define all values that wont change during the execution of a program as constants in the same initialization block, and to refer to them by name, rather than by their explicit value."
   ]
  },
  {
   "cell_type": "code",
   "execution_count": 18,
   "metadata": {},
   "outputs": [],
   "source": [
    "## Initialization\n",
    "\n",
    "import numpy as np #importing the numpy module\n",
    "\n",
    "p1 = 0.0 # position of three fixed charges, in meters\n",
    "p2 = 10.0 \n",
    "p3 = 12.0\n",
    "q1 = 1.0 # values of three charges, in Coulombs\n",
    "q2 = 2.0\n",
    "q3 = 0.5\n",
    "x0 = 3.0 # initial condition, in meters\n",
    "Tolerance = 1e-5 # tolerance for change before termination, in meters"
   ]
  },
  {
   "cell_type": "markdown",
   "metadata": {},
   "source": [
    "Notice that, for the code to work, we can specify the values of the parameters as either integers, such as 0 or 10, or as real values 0.0, 10.0, etc. While Python is relatively forgiving about this type conversion, and will convert all integers automatically into real variables when both happen in a formula at the same time, other computer languages are less forgiving. It is always a **good practice** to specify variables with decimal points if they are meant to be real-valued, even if in a particular case they are whole. This will lead to fewer confusions later on.\n",
    "\n",
    "Having initialized the code, we now implement the Newton-Raphson code to find the zero position for the force. The code consists of a single `while` loop, which applied the Newton-Raphson formula from above progressively until a value close to the zero of a function $F$ is found. Notice in the code below that our stopping condition is when a change in `x`, namely `dx`, trops below tolerance. This means that the change must exist (must have been defined previously) even during the first entry into the `while` loop, and it must be larger than `Tolerance` to allow entry into the loop. This is the meaning of the `dx = 1.0` line below.  "
   ]
  },
  {
   "cell_type": "code",
   "execution_count": 16,
   "metadata": {},
   "outputs": [
    {
     "name": "stdout",
     "output_type": "stream",
     "text": [
      "The current values are (x,F) = (-4.348783532282641, 0.09705456936226166).\n",
      "The current values are (x,F) = (-6.165005907552649, 0.04129199221027622).\n",
      "The current values are (x,F) = (-8.474663880043284, 0.017141615230915546).\n",
      "The current values are (x,F) = (-11.185116052438362, 0.006871277233786189).\n",
      "The current values are (x,F) = (-13.99318554412882, 0.002606785361244823).\n",
      "The current values are (x,F) = (-16.321845974907657, 0.0008927835752779327).\n",
      "The current values are (x,F) = (-17.561385972055476, 0.00024370248032152772).\n",
      "The current values are (x,F) = (-17.83013106472243, 3.749360648837004e-05).\n",
      "The current values are (x,F) = (-17.840556407931768, 1.350963726242803e-06).\n",
      "The current values are (x,F) = (-17.84057135418158, 1.931268686639065e-09).\n",
      "The current values are (x,F) = (-17.84057135421224, 3.961566318044785e-15).\n",
      "The charge will settle at -17.84057135421224.\n"
     ]
    }
   ],
   "source": [
    "## Main loop\n",
    "\n",
    "x = x0 #initial value for starting the loop\n",
    "dx = 1.0 # fake \"last change in x\"\n",
    "while(np.abs(dx) > Tolerance):\n",
    "    F = q1/(x-p1)**2 - q2/(x-p2)**2 - q3/(x-p3)**2\n",
    "    G = -2*q1/(x-p1)**3 + 2*q2/(x-p2)**3 + 2*q3/(x-p3)**3\n",
    "    dx = -F/G\n",
    "    x = x+dx\n",
    "    print(\"The current values are (x,F) = (\", x,', ', F, ').', sep=\"\")\n",
    "\n",
    "## Termination\n",
    "\n",
    "print(\"The charge will settle at \", x, \".\", sep=\"\")"
   ]
  },
  {
   "cell_type": "markdown",
   "metadata": {},
   "source": [
    "Notice how the values of `x` progressively approach the root. Also think if one is allowed to use the code above if the charge starts to the left of the leftmost fixed charge, or to the right of the rightmost one.\n",
    "\n",
    ">### Your turn 2.12\n",
    "Modify the provided skeletal code implementing the Newton-Raphson method, try to find **all** roots of the following functions $F(x)= {\\rm atan} 3x$ and $F(x)=\\frac{1}{3+x^2}-\\frac{1}{6}$. Do you need to modify the code to deal with convergence of the iterations for some conditions? If so, do the modification. Can you understand why some of your attempts converged to a solution, and some did not? \n",
    "\n",
    "### Model verification\n",
    "To verify the model, we need to check that it produces results that we know to be correct for various special cases. As a general rule, every term, every function in the model must be verified. For this, you set all of the parameters in turn to values that make the problem easy, and compare the output to what you should have expected. In this particular case, the following verifications would be reasonable:\n",
    "\n",
    "- If we have three fixed charges, but the third one is zero, then the problem is equivalent to having two fixed charges only. And that problem we already solved previously. So we can set the value of the third fixed charge to zero, and compare that the output of the program is the same as that of the two-charges quadratic solver program. \n",
    "- If the first of the fixed charges is zero, then there should be no steady state position for the charge. \n",
    "- If, for example, the second charge descreases, the stationary solution must move closer to it.\n",
    "- If the tolerance value becomes smaller, the solution should stay roughly the same, but more significant digits will be added. \n",
    "\n",
    "Notice that with these checks, we verify the effects of the position/values of fixed charges, tolerance, and the initial condition to be what we expect them to be. Thus the verification is more or less complete. In addition, none of the verification steps is useless -- if you only checked the initial condition, then the effect of the fixed charges would not be explored, and so on.\n",
    "\n",
    ">### Your turn 2.13\n",
    "Implement the verification steps above, and any others you can think of.\n",
    " \n",
    "### Discussion\n",
    "Here we implemented a solution for the equilibrium position of the charge in the background of three fixed charges.  The program, based on the Newton-Raphson algorithm, found the solution. Exceptions for position of the charges and the charge values were considered (and you maybe even encoded some of them). The program output has been verified against solution of a simpler problem with only two fixed charges, and the results (hopefully) matched. We assumed here that only the equilibrium position mattered. In principle, we could have written the problem as a dynamical model, and used the Newton's laws to find the position of the charge as a function of time. The value of the position at large time would be the equilibrium position, provides there is some friction in the problem that would force the charge to stop eventually. Another simplification we assumed was that the charges are positioned in just one dimension (on a rod). For a 2-d or a 3-d configuration of the charges, we would need to extend the Newton-Raphson algorithm to be useable for multi-dimensional root finding, which goes slightly outside of the scope of this class (would require knowing multivariate calculus)."
   ]
  },
  {
   "cell_type": "markdown",
   "metadata": {},
   "source": [
    "## Verification of  models -- some general considerations\n",
    "\n",
    "The most important thing to remember here is that a computer does exactly what you ask it to do. And we are pretty bad at following our own instruction in an unbiased manner. You will be reading your own the code and thinking that it instructs the computer to do what you want it to do, but you will be wrong. Your biases and expectations will triumph over your logical thinking. Thus it is almost useless to verify the code line by line for correctness (unless we are dealing with a simple syntactic error, which the Python interpreter will find for you anyway). Instead one needs to run the code many times, to look at what it outputs, and to ask if the output makes sense.\n",
    "\n",
    "This is not very precise -- and, indeed, verifying a computational model is often as much an art as it is science. But some simple rules of thumb apply. First, do not verify your model all at once! Instead, just like we build models hierarchically, we also need to verify them hierarchically. For this, you verify and seal every leaf on the tree that is your model. Then you verify blocks that consist of many leaves, then the blocks of blocks, and so on. Do not attempt to write (and certainly not to verify) a larger piece of a model when its constituent pieces are not yet verified to your satisfaction.\n",
    "\n",
    "Second, when verifying an piece of the code, the effect of every free parameter, every variable in the code must be verified. For this, you need to set every one of the parameters (or some parameter combinations) in turn to values that make the problem easier. These could be values that make your problem analytically solvable, or reduce your problem to something that you already solved before. And then you must ensure that the output of your code with such special parameter values is exactly what you expect it to be from the previous solutions. There's something called the thirteenth strike rule -- if a clock strikes 13 times, then all of them (not just the thirteenth) are wrong. If you see that the problem does something unreasonable for any of the special cases you used for verification, it's more likely than not that it is also wrong in general. If you found that a mistake exists, localize it, and fix it next.\n",
    "\n",
    "Third, spend time on verification and try all sorts of initializations, even if you do not expect that the initialization simplifies the problem, allowing you to compare to the prior knowledge. Instead, what is likely to happen is that, for some of the initial conditions, your model will produce obviously wrong results. For example, it may crash, or may produce `NaN` outputs, or will enter an infinite loop, or produce negative numbers for physical quantities that can only be positive, or something similar. And once you see a problem, do not just step over it -- localize it, and solve it! Figure out what's going on, and fix things by either introducing more exception checks, or by fixing the logic of the solution. The more things you try, the likely you are to detect more errors. But also remember -- small changes in parameters are almost useless. Go for large changes, explore the edges of the parameter spaces. You are more likely to identify problems this way.\n"
   ]
  },
  {
   "cell_type": "markdown",
   "metadata": {},
   "source": [
    "## Some more Python practice\n",
    "Now is the time to review some of the more complicated Python concepts that you read about on your own and practiced during the Lab session.\n",
    "\n",
    "### Objects, assignments, memory management, overloading, and passing arguments to functions\n",
    "We will go over Appendices E1, E2, and E3 from the *Python Student Guide*.\n",
    "\n",
    "Which methods create new objects, and which work on the old ones? Unfortunately, there are no systematic rules, you will need to do a lot of memorization.\n",
    "\n",
    "### Scopes\n",
    "What happens to the variable `i` after a `for` loop finishes executing? Let's read Appendix E4.\n",
    "\n",
    "### Slicing\n",
    "This always causes problems, so give me yours."
   ]
  },
  {
   "cell_type": "markdown",
   "metadata": {},
   "source": [
    "## Projects and reports\n",
    "It's now time for you to do a final project for this report. But before we introduce the projects and you solve them, I'd like to start with providing you with a sample of how I would like your final project reports look like for each module, focusing on the equilibrium position of a charge problem that we just analyzed.\n",
    "\n",
    "### Sample Project Report: Find the equilbrium position of a charge\n",
    "#### Author: Ilya Nemenman\n",
    "#### Date: Jan 29, 2020\n",
    "#### Other group members: None\n",
    "In this project, we solve the problem of finding the stationary position of a charge placed at an arbitrary point on a rod, with three other fixed charges of the same sign somewhere else on the rod. "
   ]
  },
  {
   "cell_type": "markdown",
   "metadata": {},
   "source": [
    "### Problem analysis\n",
    "#### Physical considerations\n",
    "For the equilibrium position of the charge to exist, the charge must be between two other charges of the *same sign*, so that it gets repelled from both of them, and settles somewhere in the middle. The sign of the third fixed charge does not matter, as it will provide just a correction for the final position of the moving charge. There will be no equilibirum position if the moving charge is put to the left of the leftmost or the right of the rightmost fixed charge, and we check this in the code. TO avoid excessive exception checks, we will simplify the problem somewhat and will make an **assumption** (and check for it in the code) that all charges are of the same sign.\n",
    "\n",
    "An additional physical **assumption** is that there is friction, so that the charge actually settles down in its equilibroum position, rather than continues to oscillate forever.\n",
    "\n",
    "#### Coding considerations\n",
    "The model being build is a *static* model for finding the equilibrium position of the charge. It's a deterministic model, since the charge equilibrium position is completely determined by the position and the value of the fixed charges. The variable of interest -- the equilibrium position is a continuous variable. To initialize the problem we will need to specify three positions of the fixed charges and the values of these charges. Additionally, we will need to specify the tolerance for finding the equilibrium soluiton. We will additionally count the number of iterations being performed, and if the change in the charge position after a certain number of iterations is still of order 1 or more, it means that the algorithm is not converging."
   ]
  },
  {
   "cell_type": "markdown",
   "metadata": {},
   "source": [
    "### Model development\n",
    "As discussed in class, we write down the second Newton's law for the moving charge, accounting for the three Coulomb forces from the stationary charges. We then set the force to zero -- the necessary condition for the equilibrium. Finally, after algebraic manipulations, we arrive at the following equiation for $x$, the equilibrium position of the charge:\n",
    "$$F(x)=\\frac{q_1}{(x-p_1)^2}-\\frac{q_2}{(x-p_2)^2}-\\frac{q_3}{(x-p_3)^2}=0,$$\n",
    "where $q_i$ and $p_i$, $i=1,\\dots,3$ are the values and the position of the three fixed charges. This equation will be solved using the Newton-Raphson algorithm for root finding. "
   ]
  },
  {
   "cell_type": "markdown",
   "metadata": {},
   "source": [
    "### Model Implementation\n",
    "This largely follows the code we introduced above, but has a few additions: checking for exceptions, and introducing the maximum number of iterations in the Newton-Raphson loop, which ensures that the code does not run forever if convergence is not achieved.\n",
    "\n",
    ">### Your turn 2.14\n",
    "How else could you terminate execution in the case of bad convergence? Hint -- look at how the values of the successive iterations of `x` change.\n",
    "\n",
    ">### Your turn 2.15\n",
    "Do we have to do any other exception checks? Which ones? Implement them if some are missing."
   ]
  },
  {
   "cell_type": "code",
   "execution_count": 21,
   "metadata": {},
   "outputs": [
    {
     "name": "stdout",
     "output_type": "stream",
     "text": [
      "The moving charge position initial guess is between two other charges. A solution should exist.\n",
      "The fixed charges are all of the same sign. The solution should exist.\n",
      "The current values are (x,F) = (3.7361232266654425, 0.06412194507432603).\n",
      "The current values are (x,F) = (3.9727547795570723, 0.0133454001330083).\n",
      "The current values are (x,F) = (3.983238706436699, 0.0005462040504851072).\n",
      "The current values are (x,F) = (3.983253690508836, 7.784411666404353e-07).\n",
      "The current values are (x,F) = (3.9832536905389837, 1.566215906967372e-12).\n",
      "The charge will settle at 3.9832536905389837.\n"
     ]
    }
   ],
   "source": [
    "## Initialization\n",
    "\n",
    "import numpy as np #importing the numpy module\n",
    "\n",
    "p1 = 0.0 # position of three fixed charges, in meters\n",
    "p2 = 10.0 \n",
    "p3 = 12.0\n",
    "q1 = 1.0 # values of three charges, in Coulombs\n",
    "q2 = 2.0\n",
    "q3 = 0.5\n",
    "x0 = 3.0 # initial condition, in meters\n",
    "Tolerance = 1e-5 # tolerance for change before termination, in meters\n",
    "MaxIter   = 50    # number of iterations, after which we check for convergence \n",
    "\n",
    "## Various exception checks \n",
    "ErrVal = 0 # we will use ErrVal to keep track of whether there were any errors encountered.\n",
    "if np.min((p1,p2,p3))>=x0:\n",
    "    print('ERROR: The initial guess for the charge position is to the left of the leftmost fixed charge. The charge will run away to infinity.')\n",
    "    ErrVal = 1\n",
    "elif np.max((p1,p2,p3))<=x0:\n",
    "    print('ERROR: The initial guess for the charge position is to the right of the rightmost fixed charge. The charge will run away to infinity.')\n",
    "    ErrVal = 1\n",
    "else:\n",
    "    print('The moving charge position initial guess is between two other charges. A solution should exist.')\n",
    "if np.any(np.array((q1,q2))*q3<0): # this line checks if q3 is the same sign as both q1 and q2\n",
    "    print('ERROR: The fixed charges are not all the same sign. The solution may not exist.')\n",
    "    ErrVal = 1\n",
    "else:\n",
    "    print('The fixed charges are all of the same sign. The solution should exist.')    \n",
    "    \n",
    "    \n",
    "## Main Newton-Raphson loop for finding a solution\n",
    "x = x0   #initial value for starting the loop\n",
    "dx = 1.0 # fake \"last change in x\"\n",
    "n = 0    # number of iterations performed so far\n",
    "if(ErrVal==0): # only try to find a solution of no errors during initialization\n",
    "    while(np.abs(dx) > Tolerance): # note that we check for convergence based on the change \n",
    "        # of the charge position, not on the change of the function F that we are minimizing\n",
    "        n = n+1\n",
    "        F = q1/(x-p1)**2 - q2/(x-p2)**2 - q3/(x-p3)**2\n",
    "        G = -2*q1/(x-p1)**3 + 2*q2/(x-p2)**3 + 2*q3/(x-p3)**3\n",
    "        dx = -F/G\n",
    "        x = x+dx\n",
    "        print(\"The current values are (x,F) = (\", x,', ', F, ').', sep=\"\")\n",
    "        if ((n>MaxIter)&(np.abs(dx)>0.01)):\n",
    "            print('ERROR: Maximum number of iterations reached, and no convergence detected. Exiting.')\n",
    "            ErrVal = 1\n",
    "            break\n",
    "            \n",
    "## Termination and output of results. \n",
    "if ErrVal:\n",
    "    print(\"Stationary position of the charge couldn't be found because of a previous error.\")\n",
    "else:\n",
    "    print(\"The charge will settle at \", x, \".\", sep=\"\")"
   ]
  },
  {
   "cell_type": "markdown",
   "metadata": {},
   "source": [
    "### Model Verification\n",
    "We have run the code above with different initial conditions, which has resulted in various exception checks.\n",
    "Additionally, we have run the code with the third charge being zero. This should result in the solution very similar to that of only two fixed charges. For example, $q_1=1.0$, $q_2=1.0$, and $q_3=0.0$ with $p_1=0.0$, $p_2=10 .0$results in $x = 5$ by solving the quadratic equation and, with $x_0=6.0$ in $4.99999999999998$, as can be seen above, which is within the numerical accuracy.\n",
    "\n",
    "Note that in the future, when we learn how to implement functions, you will be expected to provide verification by having a cell that calls various functions you defined to solve your model with different initial conditions and parameter values, and plotting or otherwise visualizing the results. You will then be able to show results of verification as well as results of the main model solution at the same time.\n",
    "\n",
    "### Discussion\n",
    "Solution for the equilibrium position of the charge was implemented. The program, based on the Newton-Raphson algorithm, finds the solution. Exceptions for position of the charges and the charge values were encoded. The program output has been verified against solution of a simpler problem with only two fixed charges, and the results matched.  "
   ]
  },
  {
   "cell_type": "markdown",
   "metadata": {},
   "source": [
    "## Projects for Module 1\n",
    "\n",
    "TBA"
   ]
  },
  {
   "cell_type": "code",
   "execution_count": null,
   "metadata": {},
   "outputs": [],
   "source": []
  }
 ],
 "metadata": {
  "kernelspec": {
   "display_name": "Python 3",
   "language": "python",
   "name": "python3"
  },
  "language_info": {
   "codemirror_mode": {
    "name": "ipython",
    "version": 3
   },
   "file_extension": ".py",
   "mimetype": "text/x-python",
   "name": "python",
   "nbconvert_exporter": "python",
   "pygments_lexer": "ipython3",
   "version": "3.7.1"
  }
 },
 "nbformat": 4,
 "nbformat_minor": 2
}
