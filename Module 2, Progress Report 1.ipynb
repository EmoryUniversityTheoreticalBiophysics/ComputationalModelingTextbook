{
 "cells": [
  {
   "cell_type": "markdown",
   "metadata": {},
   "source": [
    "# Progress Report 2, Module 1\n",
    "### Physics/Biology 212, Spring 2020\n",
    "Designed by Ilya Nemenman, 2020\n",
    "\n",
    "## Student Name:\n",
    "### Group members, if any:\n",
    "### Date:"
   ]
  },
  {
   "cell_type": "markdown",
   "metadata": {},
   "source": [
    " Make sure you read Chapters 4.3 and 6.1, 6.3, 6.4, 6.9 of the *Student Guide* alongside with this notebook.\n",
    " \n",
    "## Exercises from *Module 2* Jupyter notebook\n"
   ]
  },
  {
   "cell_type": "markdown",
   "metadata": {},
   "source": [
    "### Your turn 3.1\n",
    "Explore the objects involved in plotting by using `dir` and then calling various methods associated with the objects. Change the font of the x-lable of the Malthusian growth figure from the main notebook, and change color and the linetype of the exact solution line, and then re-render the figure. Note that I am not asking you to create a new figure with different properties, but to find methods to change properties of the current figure and then show a new rendering of it."
   ]
  },
  {
   "cell_type": "code",
   "execution_count": null,
   "metadata": {},
   "outputs": [],
   "source": []
  },
  {
   "cell_type": "markdown",
   "metadata": {},
   "source": [
    "### Your turn 3.2\n",
    "Explore how the solution of an ODE using the Euler method depends on $dt$: is the Euler method really a first order method? For this, evaluate the solution at different $dt$ for the final time of $t=1$, initial condition $n_0=1$, and growth rate of 1. The final result should be the value of $e$, or `np.exp(1)`. Explore the difference between the analytical solution and the numerical result for different $dt$. Plot the dependence of the final error on $dt$. Plot this dependence in the log-log coordinates. Repeat this for the equation $\\frac{dx}{dt}= t$, which also has an easy analytical solution. This way you can convince yourself that the linear dependence of the accuracy on $dt$ is the property of the algorithm, and not of the actual differential equation being solved."
   ]
  },
  {
   "cell_type": "code",
   "execution_count": null,
   "metadata": {},
   "outputs": [],
   "source": []
  },
  {
   "cell_type": "code",
   "execution_count": 1,
   "metadata": {},
   "outputs": [],
   "source": [
    "def Malthus(Population):\n",
    "    \"\"\"\n",
    "    This function returns the growth rate of a simple exponential growth\n",
    "\n",
    "    Usage: Growth = Malthus(Population)\n",
    "\n",
    "        Population -- current population size, in A.U\n",
    "        \n",
    "        Growth -- population growth, 1/hr\n",
    "    \"\"\"\n",
    "    GrowthRate = 1.0         # growth rate per bacterium, 1/hrs\n",
    "    return GrowthRate*Population"
   ]
  },
  {
   "cell_type": "markdown",
   "metadata": {},
   "source": [
    "### Your turn 3.3\n",
    "In the code above, what does the `\"\"\"` syntaxis stand for? Explain and verify by calling an appropriate Python command."
   ]
  },
  {
   "cell_type": "markdown",
   "metadata": {},
   "source": []
  },
  {
   "cell_type": "markdown",
   "metadata": {},
   "source": [
    "### Your turn 3.4\n",
    "Plot the function `MalthusCapacityParams()` from the main notebook for your choice of parameters and range of the population sizes. Make sure your plots have axis labels, titles, and legends."
   ]
  },
  {
   "cell_type": "code",
   "execution_count": null,
   "metadata": {},
   "outputs": [],
   "source": []
  },
  {
   "cell_type": "markdown",
   "metadata": {},
   "source": [
    "### Your turn 3.5\n",
    "Using the code we wrote for the previous module, write a *function* that solves a quadratic equation, receiving the three coefficients of the quadratic polynomial as arguments, and returning the two roots. "
   ]
  },
  {
   "cell_type": "code",
   "execution_count": null,
   "metadata": {},
   "outputs": [],
   "source": []
  },
  {
   "cell_type": "markdown",
   "metadata": {},
   "source": [
    "### Your turn 3.6\n",
    "Create a tuple `t` of  floating point numbers of your choice, and print the tuple, and then print `*t`. Explain the what you see"
   ]
  },
  {
   "cell_type": "code",
   "execution_count": null,
   "metadata": {},
   "outputs": [],
   "source": []
  },
  {
   "cell_type": "markdown",
   "metadata": {},
   "source": [
    "### Your Turn\n",
    "Use the integrator that accepts parameters and the `MalthusParams()` function in the code above to allow for solution of Malthusian growth with an arbitrary parameter. Repeat the same for the growth with the carrying capacity."
   ]
  },
  {
   "cell_type": "code",
   "execution_count": null,
   "metadata": {},
   "outputs": [],
   "source": []
  }
 ],
 "metadata": {
  "kernelspec": {
   "display_name": "Python 3",
   "language": "python",
   "name": "python3"
  },
  "language_info": {
   "codemirror_mode": {
    "name": "ipython",
    "version": 3
   },
   "file_extension": ".py",
   "mimetype": "text/x-python",
   "name": "python",
   "nbconvert_exporter": "python",
   "pygments_lexer": "ipython3",
   "version": "3.7.1"
  }
 },
 "nbformat": 4,
 "nbformat_minor": 2
}
