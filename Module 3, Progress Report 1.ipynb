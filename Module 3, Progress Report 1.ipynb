{
 "cells": [
  {
   "cell_type": "markdown",
   "metadata": {},
   "source": [
    "# Progress Report 1, Module 3\n",
    "### Physics/Biology 212, Spring 2020\n",
    "Designed by Ilya Nemenman, 2020\n",
    "\n",
    "## Student Name:\n",
    "### Group members, if any:\n",
    "### Date:"
   ]
  },
  {
   "cell_type": "markdown",
   "metadata": {},
   "source": [
    "### Your turn 4.1\n",
    "List a few more optimization problems that you see being solved around you, and which have not already been listed above."
   ]
  },
  {
   "cell_type": "markdown",
   "metadata": {},
   "source": [
    "Your answer: "
   ]
  },
  {
   "cell_type": "markdown",
   "metadata": {},
   "source": [
    "### Your Turn 4.2\n",
    "Derive the above expression for the optimal parameter value $k_0$ in the simple uni-variate linear regression model, $k_0=\\frac{\\sum_{I=1}^Nx_iy_i}{\\sum_{I=1}^Nx_i^2}$. Show that this is, indeed, a minimum (but not the maximum) of the loss function ${\\cal L}(k)$."
   ]
  },
  {
   "cell_type": "markdown",
   "metadata": {},
   "source": [
    "Your answer:"
   ]
  },
  {
   "cell_type": "markdown",
   "metadata": {},
   "source": [
    "### Your turn 4.3\n",
    "What is in the other return values? Explain in your own words and demonstrate wherever possible."
   ]
  },
  {
   "cell_type": "code",
   "execution_count": null,
   "metadata": {},
   "outputs": [],
   "source": []
  },
  {
   "cell_type": "markdown",
   "metadata": {},
   "source": [
    "### Your turn 4.4\n",
    "Which corner does the `legend()` argument `loc=2` corresponds do? Demonstrate by running the appropriate command."
   ]
  },
  {
   "cell_type": "code",
   "execution_count": null,
   "metadata": {},
   "outputs": [],
   "source": []
  },
  {
   "cell_type": "markdown",
   "metadata": {},
   "source": [
    "### Your turn 4.5\n",
    "Look up the predicted maximum temperature for the next ten days online and build a linear regression model of what the temperature will be on day 11 using zeroth order, linear, quadratic, and cubic polynomial model (where the order is defined as a power of time, in days). Which of the models, if any, of the ones that you built do you believe more? Why? Note that there will be changes to the code that you will need to do for the zeroth order model to work due to Python idiosyncrasies."
   ]
  },
  {
   "cell_type": "code",
   "execution_count": null,
   "metadata": {},
   "outputs": [],
   "source": []
  },
  {
   "cell_type": "markdown",
   "metadata": {},
   "source": [
    "### Your turn 4.6\n",
    "Does the statment that there is a minimum between $\\theta_1$ and $\\theta_3$ if $\\theta_1<\\theta_2<\\theta_3$, while  ${\\cal L}(\\theta_2)<\\min [{\\cal L}(\\theta_1), {\\cal L}(\\theta_3)]$ assume anything about ${\\cal L}$? If yes, then what? Explain."
   ]
  },
  {
   "cell_type": "markdown",
   "metadata": {},
   "source": [
    "Your answer:"
   ]
  },
  {
   "cell_type": "markdown",
   "metadata": {},
   "source": [
    "### Your turn 4.7\n",
    "Explain why a minimum cannot be bracketed in higher dimensions, and hence an equivalent of the golden section algorithm does not exist. Give examples of functions to demonstrate your arguments."
   ]
  },
  {
   "cell_type": "markdown",
   "metadata": {},
   "source": [
    "Your answer:"
   ]
  },
  {
   "cell_type": "markdown",
   "metadata": {},
   "source": [
    "### Your turn 4.8\n",
    "Find $a,b,c$ for fitting a parabola through three points. This will require some algebra on your part. Then find the minimum of the parabola and write a function that implements the parabolic approximation algorithm. Use it to find the minimum of ${\\cal L}(\\theta)= -\\frac{1}{\\theta^2+a^2}$, where $a$ is some constant. In your code, do not bother to check if the three points, on which the parabola is being built, are not collinear, but keep in mind that such check would be needed in a more general situation."
   ]
  },
  {
   "cell_type": "code",
   "execution_count": null,
   "metadata": {},
   "outputs": [],
   "source": []
  },
  {
   "cell_type": "markdown",
   "metadata": {},
   "source": [
    "### Your turn 4.9\n",
    "*(Bonus point question, not required).* Implement the Newton's method for optimization by changing the code you used for the Newton-Raphson solver. Use it to find the minimum of ${\\cal L}(\\theta)= -\\frac{1}{\\theta^2+a^2}$, where $a$ is some constant."
   ]
  },
  {
   "cell_type": "code",
   "execution_count": null,
   "metadata": {},
   "outputs": [],
   "source": []
  }
 ],
 "metadata": {
  "kernelspec": {
   "display_name": "Python 3",
   "language": "python",
   "name": "python3"
  },
  "language_info": {
   "codemirror_mode": {
    "name": "ipython",
    "version": 3
   },
   "file_extension": ".py",
   "mimetype": "text/x-python",
   "name": "python",
   "nbconvert_exporter": "python",
   "pygments_lexer": "ipython3",
   "version": "3.7.1"
  }
 },
 "nbformat": 4,
 "nbformat_minor": 2
}
