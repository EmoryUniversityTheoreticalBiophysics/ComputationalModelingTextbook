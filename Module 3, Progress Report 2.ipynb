{
 "cells": [
  {
   "cell_type": "markdown",
   "metadata": {},
   "source": [
    "# Progress Report 2, Module 3\n",
    "### Physics/Biology 212, Spring 2020\n",
    "Designed by Ilya Nemenman, 2020\n",
    "\n",
    "## Student Name:\n",
    "### Group members, if any:\n",
    "### Date:"
   ]
  },
  {
   "cell_type": "markdown",
   "metadata": {},
   "source": [
    "### Your turn 4.10\n",
    "Imagine that, for some reason, we know that the function we are trying to optimize behaves near an unknown minimum $\\theta_0$ as ${\\cal L}(\\theta) = A+B|\\theta-\\theta_0|$. What is the best accuracy in finding $\\theta_0$ that we can expect any minimizer to achieve? "
   ]
  },
  {
   "cell_type": "markdown",
   "metadata": {},
   "source": [
    "Your derivation: "
   ]
  },
  {
   "cell_type": "markdown",
   "metadata": {},
   "source": [
    "### Your turn 4.11:\n",
    "Describe what would happen if the function ${\\cal L}(\\theta_1,\\theta_2)$ has multiple minima, and the Nedler-Mead algorithm was initialized by chance to have the three points to exactly match three different local minima, which have slightly different values of ${\\cal L}$. Are there some generalities about how the algorithm would behave, or is it all depednent on the details of ${\\cal L}$?"
   ]
  },
  {
   "cell_type": "markdown",
   "metadata": {},
   "source": [
    "Your answer:"
   ]
  },
  {
   "cell_type": "markdown",
   "metadata": {},
   "source": [
    "### Your turn 4.12\n",
    "Let's compare how the different optimizations work. For the simplest possible function to optimize, the quadaratic function ${\\cal L}(x,y)= c + a_1(x+b_1y)^2 + a_2(x+b_2y)^2$, where $a_i$, $b_i$, and $c$ are constants, let's optimize it using different methods and compare which one works the fastest, and the most accurate. Use `minimize()` function with different minimization methods __[Nelder-Mead](https://docs.scipy.org/doc/scipy/reference/optimize.minimize-neldermead.html)__ and __[conjugate gradient](https://docs.scipy.org/doc/scipy/reference/optimize.minimize-cg.html)__ and time the execution speed for both algorithms fromt he same initial conditions."
   ]
  },
  {
   "cell_type": "code",
   "execution_count": null,
   "metadata": {},
   "outputs": [],
   "source": []
  },
  {
   "cell_type": "markdown",
   "metadata": {},
   "source": [
    "### Your turn 4.13:\n",
    "Plot the `MichaelisMenten()` function for $V=5$, $K_M=2$ and $S\\in[0,20]$ and verify that the slope for small $S$ is $-V/K_M$, and that the function saturates at $-V$."
   ]
  },
  {
   "cell_type": "code",
   "execution_count": null,
   "metadata": {},
   "outputs": [],
   "source": []
  },
  {
   "cell_type": "markdown",
   "metadata": {},
   "source": [
    "### Your turn 4.14:\n",
    "Plot the `MMTrajectory()` function for $V=5$, $K_M=2$ and $S(0)=20$ and verify that it starts falling off linearly with an appropriate slope, and eventually transitions to an exponential decay with the appropriate rate."
   ]
  },
  {
   "cell_type": "code",
   "execution_count": null,
   "metadata": {},
   "outputs": [],
   "source": []
  },
  {
   "cell_type": "markdown",
   "metadata": {},
   "source": [
    "### Your turn 4.15\n",
    "Generate data using a model $y=\\sin ax+{\\rm noise}$ for some fixed value of $a$. Then use the `curve_fit()` function to fit the model $y=A \\sin ax$ to this data (that is, fit two parameters $A$ and $a$). Explore how the fitted value depends on the initial guesses for $A$ and $a$, and especially on $a$. This should illustrate for you how important it is to start close to the correct value of the fitted parameter."
   ]
  },
  {
   "cell_type": "code",
   "execution_count": null,
   "metadata": {},
   "outputs": [],
   "source": []
  }
 ],
 "metadata": {
  "kernelspec": {
   "display_name": "Python 3",
   "language": "python",
   "name": "python3"
  },
  "language_info": {
   "codemirror_mode": {
    "name": "ipython",
    "version": 3
   },
   "file_extension": ".py",
   "mimetype": "text/x-python",
   "name": "python",
   "nbconvert_exporter": "python",
   "pygments_lexer": "ipython3",
   "version": "3.7.1"
  }
 },
 "nbformat": 4,
 "nbformat_minor": 2
}
